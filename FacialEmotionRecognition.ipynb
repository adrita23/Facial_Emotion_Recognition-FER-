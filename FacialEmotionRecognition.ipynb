{
  "nbformat": 4,
  "nbformat_minor": 0,
  "metadata": {
    "colab": {
      "name": "FacialEmotionRecognition.ipynb",
      "provenance": [],
      "collapsed_sections": [],
      "mount_file_id": "1v38BhBV-z3q-smGNIGglS2e1TZ9BfnEj",
      "authorship_tag": "ABX9TyNip8CjeDjjSaM79+4SjYVs",
      "include_colab_link": true
    },
    "kernelspec": {
      "display_name": "Python 3",
      "name": "python3"
    },
    "language_info": {
      "name": "python"
    },
    "accelerator": "GPU"
  },
  "cells": [
    {
      "cell_type": "markdown",
      "metadata": {
        "id": "view-in-github",
        "colab_type": "text"
      },
      "source": [
        "<a href=\"https://colab.research.google.com/github/adrita23/Facial_Emotion_Recognition-FER-/blob/main/FacialEmotionRecognition.ipynb\" target=\"_parent\"><img src=\"https://colab.research.google.com/assets/colab-badge.svg\" alt=\"Open In Colab\"/></a>"
      ]
    },
    {
      "cell_type": "code",
      "metadata": {
        "id": "TZOd3QRN7_SM"
      },
      "source": [
        "#Date: November 12, 2021\n",
        "#Author: Adrita Anika"
      ],
      "execution_count": 2,
      "outputs": []
    },
    {
      "cell_type": "code",
      "metadata": {
        "id": "tt9A7TX-bMdf"
      },
      "source": [
        "!pip install ipython-autotime\n",
        "%load_ext autotime"
      ],
      "execution_count": null,
      "outputs": []
    },
    {
      "cell_type": "code",
      "metadata": {
        "id": "e-8fAUXrPtfV"
      },
      "source": [
        "from PIL import Image \n",
        "from google.colab.patches import cv2_imshow\n",
        "import cv2\n",
        "import random\n",
        "import numpy as np"
      ],
      "execution_count": null,
      "outputs": []
    },
    {
      "cell_type": "code",
      "metadata": {
        "id": "4OmpIqDS8J5r"
      },
      "source": [
        "#import data\n",
        "import pandas as pd\n",
        "import numpy as np\n",
        "train_data = pd.read_csv(\"/content/drive/MyDrive/Colab Notebooks/HW3Files/Q1_Train_Data.csv\")\n",
        "test_data = pd.read_csv(\"/content/drive/MyDrive/Colab Notebooks/HW3Files/Q1_Test_Data.csv\")\n",
        "valid_data = pd.read_csv(\"/content/drive/MyDrive/Colab Notebooks/HW3Files/Q1_Validation_Data.csv\")"
      ],
      "execution_count": null,
      "outputs": []
    },
    {
      "cell_type": "code",
      "metadata": {
        "id": "hkU5nIhYiKie"
      },
      "source": [
        "#calculate the number of samples per class\n",
        "Emotion_dict =  {0: 'Angry', 1: 'Disgust', 2: 'Fear', 3: 'Happy', 4: 'Sad', 5: 'Surprise', 6: 'Neutral'}\n",
        "Emotions_Labels = train_data.iloc[:,0]\n",
        "Angry_no, Disgust_no, Fear_no, Happy_no, Sad_no, Surprise_no, Neutral_no = 0,0,0,0,0,0,0\n",
        "Angry_idx, Disgust_idx, Fear_idx, Happy_idx, Sad_idx, Surprise_idx, Neutral_idx = [], [], [], [], [], [],[]\n",
        "\n",
        "for idx, i in enumerate(Emotions_Labels):\n",
        " if i==0:\n",
        "   Angry_no +=1\n",
        "   Angry_idx.append(idx)\n",
        " elif i==1:\n",
        "   Disgust_no +=1\n",
        "   Disgust_idx.append(idx)\n",
        " elif i==2:\n",
        "   Fear_no +=1\n",
        "   Fear_idx.append(idx)\n",
        " elif i==3:\n",
        "   Happy_no +=1\n",
        "   Happy_idx.append(idx)\n",
        " elif i==4:\n",
        "   Sad_no +=1\n",
        "   Sad_idx.append(idx)\n",
        " elif i==5:\n",
        "   Surprise_no +=1\n",
        "   Surprise_idx.append(idx)\n",
        " elif i==6:\n",
        "   Neutral_no +=1\n",
        "   Neutral_idx.append(idx)\n"
      ],
      "execution_count": null,
      "outputs": []
    },
    {
      "cell_type": "code",
      "metadata": {
        "colab": {
          "base_uri": "https://localhost:8080/",
          "height": 717
        },
        "id": "NljpEIcT8MF8",
        "outputId": "3cd28468-679c-4e01-a51d-4623eabcd9f9"
      },
      "source": [
        "#data visualization\n",
        "random_angry, random_disgust, random_fear, random_happy, random_surprise, random_neutral  = random.sample(Angry_idx,2), random.sample(Disgust_idx,2), random.sample(Fear_idx,2), random.sample(Happy_idx,2), random.sample(Surprise_idx,2), random.sample(Neutral_idx,2)  \n",
        "\n",
        "def myshow(indx):\n",
        "  data = list(map(int, train_data.loc[indx][1].split()))\n",
        "  data = np.array(data).reshape(48,48)\n",
        "  #print(data)\n",
        "  #data_p = Image.fromarray((data).astype(np.uint8)\n",
        "  #cv2.namedWindow(\"output\", cv2.WINDOW_NORMAL)\n",
        "  cv2_imshow(data)\n",
        "  #cv2.resize(data, (960, 540)) \n",
        "\n",
        "print(\"Angry\"), myshow(random_angry[0]), myshow(random_angry[1])\n",
        "print(\"Disgust\"),myshow(random_disgust[0]), myshow(random_disgust[1])\n",
        "print(\"Fear\"), myshow(random_fear[0]), myshow(random_fear[1])\n",
        "print(\"Happy\"), myshow(random_happy[0]), myshow(random_happy[1])\n",
        "print(\"Surprise\"), myshow(random_surprise[0]), myshow(random_surprise[1])\n",
        "print(\"Neutral\"), myshow(random_neutral[0]), myshow(random_neutral[1])\n",
        "\n"
      ],
      "execution_count": 7,
      "outputs": [
        {
          "output_type": "stream",
          "name": "stdout",
          "text": [
            "Angry\n"
          ]
        },
        {
          "output_type": "display_data",
          "data": {
            "image/png": "[encoded data removed]",
            "text/plain": [
              "<PIL.Image.Image image mode=L size=48x48 at 0x7FA792FBFA50>"
            ]
          },
          "metadata": {}
        },
        {
          "output_type": "display_data",
          "data": {
            "image/png": "[encoded data removed]",
            "text/plain": [
              "<PIL.Image.Image image mode=L size=48x48 at 0x7FA792FBFA50>"
            ]
          },
          "metadata": {}
        },
        {
          "output_type": "stream",
          "name": "stdout",
          "text": [
            "Disgust\n"
          ]
        },
        {
          "output_type": "display_data",
          "data": {
            "image/png": "[encoded data removed]",
            "text/plain": [
              "<PIL.Image.Image image mode=L size=48x48 at 0x7FA792F38310>"
            ]
          },
          "metadata": {}
        },
        {
          "output_type": "display_data",
          "data": {
            "image/png": "[encoded data removed]",
            "text/plain": [
              "<PIL.Image.Image image mode=L size=48x48 at 0x7FA792F30450>"
            ]
          },
          "metadata": {}
        },
        {
          "output_type": "stream",
          "name": "stdout",
          "text": [
            "Fear\n"
          ]
        },
        {
          "output_type": "display_data",
          "data": {
            "image/png": "[encoded data removed]",
            "text/plain": [
              "<PIL.Image.Image image mode=L size=48x48 at 0x7FA792F385D0>"
            ]
          },
          "metadata": {}
        },
        {
          "output_type": "display_data",
          "data": {
            "image/png": "[encoded data removed]",
            "text/plain": [
              "<PIL.Image.Image image mode=L size=48x48 at 0x7FA792F38350>"
            ]
          },
          "metadata": {}
        },
        {
          "output_type": "stream",
          "name": "stdout",
          "text": [
            "Happy\n"
          ]
        },
        {
          "output_type": "display_data",
          "data": {
            "image/png": "[encoded data removed]",
            "text/plain": [
              "<PIL.Image.Image image mode=L size=48x48 at 0x7FA792F383D0>"
            ]
          },
          "metadata": {}
        },
        {
          "output_type": "display_data",
          "data": {
            "image/png": "[encoded data removed]",
            "text/plain": [
              "<PIL.Image.Image image mode=L size=48x48 at 0x7FA792F38450>"
            ]
          },
          "metadata": {}
        },
        {
          "output_type": "stream",
          "name": "stdout",
          "text": [
            "Surprise\n"
          ]
        },
        {
          "output_type": "display_data",
          "data": {
            "image/png": "[encoded data removed]",
            "text/plain": [
              "<PIL.Image.Image image mode=L size=48x48 at 0x7FA792F38590>"
            ]
          },
          "metadata": {}
        },
        {
          "output_type": "display_data",
          "data": {
            "image/png": "[encoded data removed]",
            "text/plain": [
              "<PIL.Image.Image image mode=L size=48x48 at 0x7FA792F384D0>"
            ]
          },
          "metadata": {}
        },
        {
          "output_type": "stream",
          "name": "stdout",
          "text": [
            "Neutral\n"
          ]
        },
        {
          "output_type": "display_data",
          "data": {
            "image/png": "[encoded data removed]",
            "text/plain": [
              "<PIL.Image.Image image mode=L size=48x48 at 0x7FA792F388D0>"
            ]
          },
          "metadata": {}
        },
        {
          "output_type": "display_data",
          "data": {
            "image/png": "[encoded data removed]",
            "text/plain": [
              "<PIL.Image.Image image mode=L size=48x48 at 0x7FA792F38410>"
            ]
          },
          "metadata": {}
        },
        {
          "output_type": "execute_result",
          "data": {
            "text/plain": [
              "(None, None, None)"
            ]
          },
          "metadata": {},
          "execution_count": 7
        },
        {
          "output_type": "stream",
          "name": "stdout",
          "text": [
            "time: 138 ms (started: 2021-11-15 00:17:45 +00:00)\n"
          ]
        }
      ]
    },
    {
      "cell_type": "markdown",
      "metadata": {
        "id": "7GcIcOWxQxK8"
      },
      "source": [
        "**a.** There are 7 emotions. Randomly 2 images from every emotion is shown.\n",
        "\n",
        "---\n",
        "\n"
      ]
    },
    {
      "cell_type": "code",
      "metadata": {
        "colab": {
          "base_uri": "https://localhost:8080/"
        },
        "id": "GNCL5trQ8ORB",
        "outputId": "6d17242d-4953-4a4a-c159-0d2352982f70"
      },
      "source": [
        "#data exploaration\n",
        "print(\"The number of samples per emotion is: \")\n",
        "print(\"Angry: \", Angry_no, \"\\nDisgust: \", Disgust_no, \"\\nFear: \", Fear_no, \"\\nHappy: \", Happy_no, \"\\nSurprise: \", Surprise_no, \"\\nNeutral: \", Neutral_no)"
      ],
      "execution_count": 8,
      "outputs": [
        {
          "output_type": "stream",
          "name": "stdout",
          "text": [
            "The number of samples per emotion is: \n",
            "Angry:  3995 \n",
            "Disgust:  436 \n",
            "Fear:  4097 \n",
            "Happy:  7215 \n",
            "Surprise:  3171 \n",
            "Neutral:  4965\n",
            "time: 8.99 ms (started: 2021-11-15 00:17:49 +00:00)\n"
          ]
        }
      ]
    },
    {
      "cell_type": "markdown",
      "metadata": {
        "id": "GREkKSIoRBze"
      },
      "source": [
        "**b.** The number of samples per emotion is calculated in the above cell."
      ]
    },
    {
      "cell_type": "code",
      "metadata": {
        "id": "IsybmQC8MZC7"
      },
      "source": [
        "from tensorflow.keras.utils import to_categorical\n",
        "#Prepare the data\n",
        "def data_extract(img_index_1):\n",
        "  img_vals = list((map(int, img_index_1.split())))\n",
        "  return np.array(img_vals)\n",
        "#print(data_extract(train_data.loc[2][1]))\n",
        "\n",
        "#train data\n",
        "X_train_label = to_categorical(Emotions_Labels)\n",
        "X_train = np.zeros((len(X_train_label), 2304))\n",
        "for idx, val in enumerate(train_data.iloc[:,1]):\n",
        "  X_train[idx] = data_extract(val)\n",
        "\n",
        "#validation data\n",
        "X_valid_label  = to_categorical(valid_data.iloc[:,0])\n",
        "X_valid = np.zeros((len(X_valid_label), 2304))\n",
        "for idx, val in enumerate(valid_data.iloc[:,1]):\n",
        "  X_valid[idx] = data_extract(val)\n",
        "\n",
        "#test data\n",
        "X_test_label = to_categorical(test_data.iloc[:,0])\n",
        "X_test = np.zeros((len(X_test_label), 2304))\n",
        "for idx, val in enumerate(test_data.iloc[:,1]):\n",
        "  X_test[idx] = data_extract(val)"
      ],
      "execution_count": null,
      "outputs": []
    },
    {
      "cell_type": "code",
      "metadata": {
        "id": "rumoT1wDR3gn"
      },
      "source": [
        "from keras.callbacks import ModelCheckpoint\n",
        "checkpoint = ModelCheckpoint(\"best_model.hdf5\", monitor = 'val_loss', verbose = 1,\n",
        "    save_best_only = True, mode =' min', period = 1)"
      ],
      "execution_count": null,
      "outputs": []
    },
    {
      "cell_type": "code",
      "metadata": {
        "id": "8_PwIhuJUhQk"
      },
      "source": [
        "# Preprocessing: Normalize the images.\n",
        "X_train = (X_train / 255) - 0.5\n",
        "X_valid = (X_valid/ 255) - 0.5\n",
        "X_test = (X_test/ 255) - 0.5"
      ],
      "execution_count": null,
      "outputs": []
    },
    {
      "cell_type": "code",
      "metadata": {
        "colab": {
          "base_uri": "https://localhost:8080/",
          "height": 971
        },
        "id": "kits8FsJ8QM9",
        "outputId": "3d9995a0-2eb8-48d0-d926-2ead3edb753f"
      },
      "source": [
        "#FNN\n",
        "\n",
        "n_feats = 48*48 #image size 48 *48\n",
        "from tensorflow.keras.models import Sequential\n",
        "from tensorflow.keras.layers import Dense, Dropout\n",
        "from tensorflow.keras.optimizers import Adam\n",
        "\n",
        "#Moedl1: 4 layers, optimozer = adam, without dropout\n",
        "model1 = Sequential()\n",
        "model1.add(Dense(512, activation='relu', input_shape=(n_feats,)))\n",
        "#model.add(Dense(512, activation='relu'))\n",
        "model1.add(Dense(256, activation='relu'))\n",
        "model1.add(Dense(64, activation='relu'))\n",
        "model1.add(Dense(7, activation = 'softmax'))\n",
        "model1.compile(\n",
        "    optimizer=Adam(learning_rate= 0.001),\n",
        "    loss='categorical_crossentropy',\n",
        "    metrics=['accuracy'])\n",
        "\n",
        "train_model1 = model1.fit(X_train, X_train_label, validation_data=(X_valid, X_valid_label),callbacks = [checkpoint], epochs=10, verbose=0)\n",
        "model1.summary()\n",
        "\n",
        "#model.history.history\n",
        "train_loss1 = train_model1.history['loss']\n",
        "valid_loss1 = train_model1.history['val_loss']\n",
        "import matplotlib.pyplot as plt\n",
        "plt.plot(train_loss1, 'r', label='Training loss')\n",
        "plt.plot(valid_loss1, 'b', label='Validation loss')\n",
        "plt.title('Model 1') \n",
        "plt.xlabel('Epochs') \n",
        "plt.ylabel('Loss')\n",
        "plt.legend()\n",
        "plt.show()"
      ],
      "execution_count": 35,
      "outputs": [
        {
          "output_type": "stream",
          "name": "stdout",
          "text": [
            "\n",
            "Epoch 00001: val_loss improved from inf to 1.62339, saving model to best_model.hdf5\n",
            "\n",
            "Epoch 00002: val_loss improved from 1.62339 to 1.55201, saving model to best_model.hdf5\n",
            "\n",
            "Epoch 00003: val_loss improved from 1.55201 to 1.52754, saving model to best_model.hdf5\n",
            "\n",
            "Epoch 00004: val_loss did not improve from 1.52754\n",
            "\n",
            "Epoch 00005: val_loss improved from 1.52754 to 1.51851, saving model to best_model.hdf5\n",
            "\n",
            "Epoch 00006: val_loss improved from 1.51851 to 1.49495, saving model to best_model.hdf5\n",
            "\n",
            "Epoch 00007: val_loss did not improve from 1.49495\n",
            "\n",
            "Epoch 00008: val_loss did not improve from 1.49495\n",
            "\n",
            "Epoch 00009: val_loss did not improve from 1.49495\n",
            "\n",
            "Epoch 00010: val_loss did not improve from 1.49495\n",
            "Model: \"sequential_4\"\n",
            "_________________________________________________________________\n",
            " Layer (type)                Output Shape              Param #   \n",
            "=================================================================\n",
            " dense_20 (Dense)            (None, 512)               1180160   \n",
            "                                                                 \n",
            " dense_21 (Dense)            (None, 256)               131328    \n",
            "                                                                 \n",
            " dense_22 (Dense)            (None, 64)                16448     \n",
            "                                                                 \n",
            " dense_23 (Dense)            (None, 7)                 455       \n",
            "                                                                 \n",
            "=================================================================\n",
            "Total params: 1,328,391\n",
            "Trainable params: 1,328,391\n",
            "Non-trainable params: 0\n",
            "_________________________________________________________________\n"
          ]
        },
        {
          "output_type": "display_data",
          "data": {
            "image/png": "[encoded data removed]",
            "text/plain": [
              "<Figure size 432x288 with 1 Axes>"
            ]
          },
          "metadata": {
            "needs_background": "light"
          }
        },
        {
          "output_type": "stream",
          "name": "stdout",
          "text": [
            "time: 42 s (started: 2021-11-15 00:50:37 +00:00)\n"
          ]
        }
      ]
    },
    {
      "cell_type": "code",
      "metadata": {
        "colab": {
          "base_uri": "https://localhost:8080/"
        },
        "id": "Ig6uJu4tb4a_",
        "outputId": "c014ac11-9cb1-45d2-9551-f0e16fba7de6"
      },
      "source": [
        "import keras\n",
        "best_model = keras.models.load_model(\"best_model.hdf5\")\n",
        "score = best_model.evaluate(X_train, X_train_label, verbose=0)\n",
        "score1 = best_model.evaluate(X_valid, X_valid_label, verbose=0)\n",
        "print(\"Accuracy on Training Set\", score[1], \"\\nAccuracy on Validation Set\", score1[1])"
      ],
      "execution_count": 33,
      "outputs": [
        {
          "output_type": "stream",
          "name": "stdout",
          "text": [
            "Accuracy on Training Set 0.4921453297138214 \n",
            "Accuracy on Validation Set 0.41571468114852905\n",
            "time: 3.48 s (started: 2021-11-15 00:49:54 +00:00)\n"
          ]
        }
      ]
    },
    {
      "cell_type": "markdown",
      "metadata": {
        "id": "Fo-YWuKXT2At"
      },
      "source": [
        "FNN Model -1:\n",
        "\n",
        "*   Accuracy on the training dataset: 52%\n",
        "*   Accuracy on the validation dataset:42%\n",
        "*   Running time: 1min 23s\n",
        "*   Parameters: 4 layers, optimozer = adam, without dropout, without regularization\n",
        "* The best model has been saved while training by monitoring the validation loss and the loss curve is plotted above. \n",
        "\n",
        "\n",
        "\n"
      ]
    },
    {
      "cell_type": "code",
      "metadata": {
        "id": "Ht0Gmf9NXi6l"
      },
      "source": [
        "checkpoint2 = ModelCheckpoint(\"best_model2.hdf5\", monitor = 'val_loss', verbose = 1,\n",
        "    save_best_only = True, mode =' min', period = 1)\n"
      ],
      "execution_count": null,
      "outputs": []
    },
    {
      "cell_type": "code",
      "metadata": {
        "colab": {
          "base_uri": "https://localhost:8080/",
          "height": 1000
        },
        "id": "SJYG7DIvg0Im",
        "outputId": "3e7f3434-5e5f-45f9-bd22-bbbdcf9cf4ce"
      },
      "source": [
        "#Model 2: 5 layers, optimizer = \"adam\", without dropout\n",
        "from keras.regularizers import l2 \n",
        "model2 = Sequential()\n",
        "model2.add(Dense(512,kernel_regularizer=l2(0.01), activation='relu', input_shape=(n_feats,)))\n",
        "model2.add(Dense(256,kernel_regularizer=l2(0.01), activation='relu'))\n",
        "model2.add(Dense(64,kernel_regularizer=l2(0.01), activation='relu'))\n",
        "model2.add(Dense(32,kernel_regularizer=l2(0.01), activation='relu'))\n",
        "model2.add(Dense(7, activation = 'softmax'))\n",
        "model2.compile(\n",
        "    optimizer='adam',\n",
        "    loss='categorical_crossentropy',\n",
        "    metrics=['accuracy'])\n",
        "train_model2 = model2.fit(X_train, X_train_label, validation_data=(X_valid, X_valid_label),callbacks = [checkpoint2],  epochs=10, verbose=0)\n",
        "model2.summary()\n",
        "train_loss2 = train_model2.history['loss']\n",
        "valid_loss2 = train_model2.history['val_loss']\n",
        "plt.plot(train_loss2, 'r', label='Training loss')\n",
        "plt.plot(valid_loss2, 'b', label='Validation loss')\n",
        "plt.title('Model 2') \n",
        "plt.xlabel('Epochs') \n",
        "plt.ylabel('Loss')\n",
        "plt.legend()\n",
        "plt.show()"
      ],
      "execution_count": 42,
      "outputs": [
        {
          "output_type": "stream",
          "name": "stdout",
          "text": [
            "Epoch 1/10\n",
            "897/898 [============================>.] - ETA: 0s - loss: 2.3355 - accuracy: 0.2789\n",
            "Epoch 00001: val_loss improved from inf to 1.79051, saving model to best_model2.hdf5\n",
            "898/898 [==============================] - 7s 6ms/step - loss: 2.3354 - accuracy: 0.2790 - val_loss: 1.7905 - val_accuracy: 0.3132\n",
            "Epoch 2/10\n",
            "895/898 [============================>.] - ETA: 0s - loss: 1.7951 - accuracy: 0.3130\n",
            "Epoch 00002: val_loss improved from 1.79051 to 1.76418, saving model to best_model2.hdf5\n",
            "898/898 [==============================] - 6s 6ms/step - loss: 1.7951 - accuracy: 0.3131 - val_loss: 1.7642 - val_accuracy: 0.3355\n",
            "Epoch 3/10\n",
            "890/898 [============================>.] - ETA: 0s - loss: 1.7643 - accuracy: 0.3220\n",
            "Epoch 00003: val_loss improved from 1.76418 to 1.73603, saving model to best_model2.hdf5\n",
            "898/898 [==============================] - 6s 6ms/step - loss: 1.7644 - accuracy: 0.3218 - val_loss: 1.7360 - val_accuracy: 0.3494\n",
            "Epoch 4/10\n",
            "892/898 [============================>.] - ETA: 0s - loss: 1.7479 - accuracy: 0.3286\n",
            "Epoch 00004: val_loss did not improve from 1.73603\n",
            "898/898 [==============================] - 6s 6ms/step - loss: 1.7475 - accuracy: 0.3287 - val_loss: 1.7374 - val_accuracy: 0.3349\n",
            "Epoch 5/10\n",
            "894/898 [============================>.] - ETA: 0s - loss: 1.7392 - accuracy: 0.3299\n",
            "Epoch 00005: val_loss did not improve from 1.73603\n",
            "898/898 [==============================] - 5s 6ms/step - loss: 1.7392 - accuracy: 0.3297 - val_loss: 1.7464 - val_accuracy: 0.3235\n",
            "Epoch 6/10\n",
            "893/898 [============================>.] - ETA: 0s - loss: 1.7369 - accuracy: 0.3285\n",
            "Epoch 00006: val_loss improved from 1.73603 to 1.71348, saving model to best_model2.hdf5\n",
            "898/898 [==============================] - 5s 6ms/step - loss: 1.7369 - accuracy: 0.3287 - val_loss: 1.7135 - val_accuracy: 0.3477\n",
            "Epoch 7/10\n",
            "898/898 [==============================] - ETA: 0s - loss: 1.7339 - accuracy: 0.3296\n",
            "Epoch 00007: val_loss did not improve from 1.71348\n",
            "898/898 [==============================] - 6s 6ms/step - loss: 1.7339 - accuracy: 0.3296 - val_loss: 1.7211 - val_accuracy: 0.3444\n",
            "Epoch 8/10\n",
            "895/898 [============================>.] - ETA: 0s - loss: 1.7309 - accuracy: 0.3323\n",
            "Epoch 00008: val_loss did not improve from 1.71348\n",
            "898/898 [==============================] - 5s 6ms/step - loss: 1.7309 - accuracy: 0.3322 - val_loss: 1.7194 - val_accuracy: 0.3227\n",
            "Epoch 9/10\n",
            "890/898 [============================>.] - ETA: 0s - loss: 1.7307 - accuracy: 0.3301\n",
            "Epoch 00009: val_loss improved from 1.71348 to 1.71292, saving model to best_model2.hdf5\n",
            "898/898 [==============================] - 5s 6ms/step - loss: 1.7305 - accuracy: 0.3303 - val_loss: 1.7129 - val_accuracy: 0.3408\n",
            "Epoch 10/10\n",
            "891/898 [============================>.] - ETA: 0s - loss: 1.7278 - accuracy: 0.3329\n",
            "Epoch 00010: val_loss did not improve from 1.71292\n",
            "898/898 [==============================] - 5s 6ms/step - loss: 1.7274 - accuracy: 0.3331 - val_loss: 1.7468 - val_accuracy: 0.3355\n",
            "Model: \"sequential_10\"\n",
            "_________________________________________________________________\n",
            " Layer (type)                Output Shape              Param #   \n",
            "=================================================================\n",
            " dense_43 (Dense)            (None, 512)               1180160   \n",
            "                                                                 \n",
            " dense_44 (Dense)            (None, 256)               131328    \n",
            "                                                                 \n",
            " dense_45 (Dense)            (None, 64)                16448     \n",
            "                                                                 \n",
            " dense_46 (Dense)            (None, 32)                2080      \n",
            "                                                                 \n",
            " dense_47 (Dense)            (None, 7)                 231       \n",
            "                                                                 \n",
            "=================================================================\n",
            "Total params: 1,330,247\n",
            "Trainable params: 1,330,247\n",
            "Non-trainable params: 0\n",
            "_________________________________________________________________\n"
          ]
        },
        {
          "output_type": "display_data",
          "data": {
            "image/png": "[encoded data removed]",
            "text/plain": [
              "<Figure size 432x288 with 1 Axes>"
            ]
          },
          "metadata": {
            "needs_background": "light"
          }
        },
        {
          "output_type": "stream",
          "name": "stdout",
          "text": [
            "time: 57 s (started: 2021-11-14 21:59:12 +00:00)\n"
          ]
        }
      ]
    },
    {
      "cell_type": "code",
      "metadata": {
        "id": "_-IL3MbUdjVG"
      },
      "source": [
        "best_model2 = keras.models.load_model(\"best_model2.hdf5\")\n",
        "score = best_model2.evaluate(X_train, X_train_label, verbose=0)\n",
        "score1 = best_model2.evaluate(X_valid, X_valid_label, verbose=0)\n",
        "print(\"Accuracy on Training Set\", score[1], \"\\nAccuracy on Validation Set\", score1[1])"
      ],
      "execution_count": null,
      "outputs": []
    },
    {
      "cell_type": "markdown",
      "metadata": {
        "id": "h_AWb469dkY4"
      },
      "source": [
        "FNN Model -2:\n",
        "\n",
        "*   Accuracy on the training dataset: 34%\n",
        "*   Accuracy on the validation dataset:34%\n",
        "*   Running time: 57s\n",
        "*   Parameters: 5 layers, optimizer = \"adam\", without dropout, with regularization\n",
        "* The best model has been saved while training by monitoring the validation loss and the loss curve is plotted above. \n",
        "\n",
        "\n",
        "\n"
      ]
    },
    {
      "cell_type": "code",
      "metadata": {
        "colab": {
          "base_uri": "https://localhost:8080/"
        },
        "id": "7QPBZxsoXnA9",
        "outputId": "91ef9ede-b336-47be-efa3-76f1d8873b64"
      },
      "source": [
        "checkpoint3 = ModelCheckpoint(\"best_model3.hdf5\", monitor = 'val_loss', verbose = 1,\n",
        "    save_best_only = True, mode =' min', period = 1)\n"
      ],
      "execution_count": 44,
      "outputs": [
        {
          "output_type": "stream",
          "name": "stdout",
          "text": [
            "WARNING:tensorflow:`period` argument is deprecated. Please use `save_freq` to specify the frequency in number of batches seen.\n",
            "WARNING:tensorflow:ModelCheckpoint mode  min is unknown, fallback to auto mode.\n",
            "time: 9.37 ms (started: 2021-11-14 22:01:55 +00:00)\n"
          ]
        }
      ]
    },
    {
      "cell_type": "code",
      "metadata": {
        "colab": {
          "base_uri": "https://localhost:8080/",
          "height": 1000
        },
        "id": "ZU4RfRm_gw_P",
        "outputId": "e15f3ff9-166f-4613-e746-d2901c2342c0"
      },
      "source": [
        "#Model 3: 5 layers, optimizer = \"rmsprop\", with dropout, without regularization\n",
        "model3 = Sequential()\n",
        "model3.add(Dense(512, activation='relu', input_shape=(n_feats,)))\n",
        "model3.add(Dense(256, activation='relu'))\n",
        "model3.add(Dropout(0.2))\n",
        "model3.add(Dense(128, activation='relu'))\n",
        "model3.add(Dropout(0.2))\n",
        "model3.add(Dense(64, activation='relu'))\n",
        "model3.add(Dense(7, activation = 'softmax'))\n",
        "model3.compile(\n",
        "    optimizer='rmsprop',\n",
        "    loss='categorical_crossentropy',\n",
        "    metrics=['accuracy'])\n",
        "train_model3 = model3.fit(X_train, X_train_label, validation_data=(X_valid, X_valid_label),callbacks = [checkpoint3],  epochs=10, verbose=0)\n",
        "\n",
        "model3.summary()\n",
        "train_loss3 = train_model3.history['loss']\n",
        "valid_loss3 = train_model3.history['val_loss']\n",
        "plt.plot(train_loss3, 'r', label='Training loss')\n",
        "plt.plot(valid_loss3, 'b', label='Validation loss')\n",
        "plt.title('Model 3') \n",
        "plt.xlabel('Epochs') \n",
        "plt.ylabel('Loss')\n",
        "plt.legend()\n",
        "plt.show()"
      ],
      "execution_count": 45,
      "outputs": [
        {
          "output_type": "stream",
          "name": "stdout",
          "text": [
            "Epoch 1/10\n",
            "895/898 [============================>.] - ETA: 0s - loss: 1.7477 - accuracy: 0.3001\n",
            "Epoch 00001: val_loss improved from inf to 1.66410, saving model to best_model3.hdf5\n",
            "898/898 [==============================] - 7s 7ms/step - loss: 1.7472 - accuracy: 0.3005 - val_loss: 1.6641 - val_accuracy: 0.3377\n",
            "Epoch 2/10\n",
            "894/898 [============================>.] - ETA: 0s - loss: 1.6426 - accuracy: 0.3597\n",
            "Epoch 00002: val_loss improved from 1.66410 to 1.58756, saving model to best_model3.hdf5\n",
            "898/898 [==============================] - 6s 7ms/step - loss: 1.6425 - accuracy: 0.3599 - val_loss: 1.5876 - val_accuracy: 0.3775\n",
            "Epoch 3/10\n",
            "895/898 [============================>.] - ETA: 0s - loss: 1.5850 - accuracy: 0.3869\n",
            "Epoch 00003: val_loss improved from 1.58756 to 1.55560, saving model to best_model3.hdf5\n",
            "898/898 [==============================] - 6s 7ms/step - loss: 1.5848 - accuracy: 0.3868 - val_loss: 1.5556 - val_accuracy: 0.4057\n",
            "Epoch 4/10\n",
            "894/898 [============================>.] - ETA: 0s - loss: 1.5455 - accuracy: 0.4065\n",
            "Epoch 00004: val_loss did not improve from 1.55560\n",
            "898/898 [==============================] - 6s 7ms/step - loss: 1.5456 - accuracy: 0.4066 - val_loss: 1.6070 - val_accuracy: 0.3756\n",
            "Epoch 5/10\n",
            "896/898 [============================>.] - ETA: 0s - loss: 1.5069 - accuracy: 0.4177\n",
            "Epoch 00005: val_loss improved from 1.55560 to 1.54657, saving model to best_model3.hdf5\n",
            "898/898 [==============================] - 6s 7ms/step - loss: 1.5068 - accuracy: 0.4176 - val_loss: 1.5466 - val_accuracy: 0.4124\n",
            "Epoch 6/10\n",
            "894/898 [============================>.] - ETA: 0s - loss: 1.4716 - accuracy: 0.4304\n",
            "Epoch 00006: val_loss did not improve from 1.54657\n",
            "898/898 [==============================] - 6s 7ms/step - loss: 1.4716 - accuracy: 0.4302 - val_loss: 1.5858 - val_accuracy: 0.3890\n",
            "Epoch 7/10\n",
            "897/898 [============================>.] - ETA: 0s - loss: 1.4441 - accuracy: 0.4430\n",
            "Epoch 00007: val_loss did not improve from 1.54657\n",
            "898/898 [==============================] - 6s 7ms/step - loss: 1.4440 - accuracy: 0.4430 - val_loss: 1.5744 - val_accuracy: 0.4093\n",
            "Epoch 8/10\n",
            "891/898 [============================>.] - ETA: 0s - loss: 1.4165 - accuracy: 0.4570\n",
            "Epoch 00008: val_loss did not improve from 1.54657\n",
            "898/898 [==============================] - 6s 7ms/step - loss: 1.4163 - accuracy: 0.4567 - val_loss: 1.6725 - val_accuracy: 0.4004\n",
            "Epoch 9/10\n",
            "896/898 [============================>.] - ETA: 0s - loss: 1.3778 - accuracy: 0.4765\n",
            "Epoch 00009: val_loss did not improve from 1.54657\n",
            "898/898 [==============================] - 6s 7ms/step - loss: 1.3780 - accuracy: 0.4763 - val_loss: 1.5951 - val_accuracy: 0.4132\n",
            "Epoch 10/10\n",
            "894/898 [============================>.] - ETA: 0s - loss: 1.3592 - accuracy: 0.4876\n",
            "Epoch 00010: val_loss did not improve from 1.54657\n",
            "898/898 [==============================] - 6s 7ms/step - loss: 1.3585 - accuracy: 0.4879 - val_loss: 1.6279 - val_accuracy: 0.4260\n",
            "Model: \"sequential_11\"\n",
            "_________________________________________________________________\n",
            " Layer (type)                Output Shape              Param #   \n",
            "=================================================================\n",
            " dense_48 (Dense)            (None, 512)               1180160   \n",
            "                                                                 \n",
            " dense_49 (Dense)            (None, 256)               131328    \n",
            "                                                                 \n",
            " dropout_2 (Dropout)         (None, 256)               0         \n",
            "                                                                 \n",
            " dense_50 (Dense)            (None, 128)               32896     \n",
            "                                                                 \n",
            " dropout_3 (Dropout)         (None, 128)               0         \n",
            "                                                                 \n",
            " dense_51 (Dense)            (None, 64)                8256      \n",
            "                                                                 \n",
            " dense_52 (Dense)            (None, 7)                 455       \n",
            "                                                                 \n",
            "=================================================================\n",
            "Total params: 1,353,095\n",
            "Trainable params: 1,353,095\n",
            "Non-trainable params: 0\n",
            "_________________________________________________________________\n"
          ]
        },
        {
          "output_type": "display_data",
          "data": {
            "image/png": "[encoded data removed]",
            "text/plain": [
              "<Figure size 432x288 with 1 Axes>"
            ]
          },
          "metadata": {
            "needs_background": "light"
          }
        },
        {
          "output_type": "stream",
          "name": "stdout",
          "text": [
            "time: 1min 3s (started: 2021-11-14 22:01:57 +00:00)\n"
          ]
        }
      ]
    },
    {
      "cell_type": "code",
      "metadata": {
        "colab": {
          "base_uri": "https://localhost:8080/"
        },
        "id": "CHWWRdEseLqy",
        "outputId": "7562fecd-ef3e-48ca-f48a-e83d1e311488"
      },
      "source": [
        "best_model3 = keras.models.load_model(\"best_model3.hdf5\")\n",
        "score = best_model3.evaluate(X_train, X_train_label, verbose=0)\n",
        "score1 = best_model3.evaluate(X_valid, X_valid_label, verbose=0)\n",
        "print(\"Accuracy on Training Set\", score[1], \"\\nAccuracy on Validation Set\", score1[1])"
      ],
      "execution_count": 47,
      "outputs": [
        {
          "output_type": "stream",
          "name": "stdout",
          "text": [
            "Accuracy on Training Set 0.4583580195903778 \n",
            "Accuracy on Validation Set 0.41237112879753113\n",
            "time: 6.01 s (started: 2021-11-14 22:04:34 +00:00)\n"
          ]
        }
      ]
    },
    {
      "cell_type": "markdown",
      "metadata": {
        "id": "zqZ4ImAHeTNV"
      },
      "source": [
        "FNN Model -3:\n",
        "\n",
        "*   Accuracy on the training dataset: 45%\n",
        "*   Accuracy on the validation dataset:41%\n",
        "*   Running time: 1min 3s\n",
        "*   Parameters: 5 layers, optimizer = \"rmsprop\", with dropout, without regularization\n",
        "* The best model has been saved while training by monitoring the validation loss and the loss curve is plotted above. \n",
        "\n",
        "\n",
        "\n"
      ]
    },
    {
      "cell_type": "code",
      "metadata": {
        "id": "7fYNvLX9u3PG",
        "colab": {
          "base_uri": "https://localhost:8080/"
        },
        "outputId": "4e7a51be-4bf6-4efe-dbf0-f7f862645ff7"
      },
      "source": [
        "#Testing FNN\n",
        "# Evaluate your model's performance on the test data\n",
        "performance = best_model3.evaluate(X_test, X_test_label, verbose=0)\n",
        "print(\"Accuracy on Testing Set:\",  performance[1])"
      ],
      "execution_count": 49,
      "outputs": [
        {
          "output_type": "stream",
          "name": "stdout",
          "text": [
            "Accuracy on Testing Set: 0.42268040776252747\n",
            "time: 450 ms (started: 2021-11-14 22:07:41 +00:00)\n"
          ]
        }
      ]
    },
    {
      "cell_type": "markdown",
      "metadata": {
        "id": "o2LuBCfsPNAJ"
      },
      "source": [
        "**c.iii.** Model 3 gives the best performance among the three models. So we chooe odel 3 for testing and the accuracy is 42%"
      ]
    },
    {
      "cell_type": "code",
      "metadata": {
        "id": "7i-hErJ9u7lX",
        "colab": {
          "base_uri": "https://localhost:8080/"
        },
        "outputId": "1e515a61-dec3-4aae-8eda-297854595da5"
      },
      "source": [
        "#CNN\n",
        "from tensorflow.keras.layers import Dense, Dropout, Activation, Flatten, GlobalAveragePooling2D, Conv2D, MaxPooling2D, ZeroPadding2D\n",
        "from keras.layers.normalization import batch_normalization\n",
        "from keras.models import Model\n",
        "#cnn model 1: 3 convolution layers, 2 max pooling layers, optimizer: adam, without dropout, without regularization\n",
        "cnn_model = Sequential([Conv2D(96, kernel_size=3, activation='relu', input_shape=(48,48,1)), \n",
        "            Conv2D(32, kernel_size=3, activation='relu'), \n",
        "            MaxPooling2D(pool_size=(2,2)),\n",
        "            Conv2D(64, kernel_size=3, activation='relu'),\n",
        "            Conv2D(64, kernel_size=3, activation='relu'), \n",
        "            MaxPooling2D(pool_size=(2,2)), \n",
        "            Flatten(),Dense(512, activation='relu'), Dense(7, activation='softmax'),])"
      ],
      "execution_count": 14,
      "outputs": [
        {
          "output_type": "stream",
          "name": "stdout",
          "text": [
            "time: 82.3 ms (started: 2021-11-15 00:19:32 +00:00)\n"
          ]
        }
      ]
    },
    {
      "cell_type": "code",
      "metadata": {
        "colab": {
          "base_uri": "https://localhost:8080/"
        },
        "id": "z4f0dvTwh6Bi",
        "outputId": "180dacf1-ec62-44de-8fb2-e0d6b2bed7c2"
      },
      "source": [
        "train_images_cnn = X_train.reshape(28709,48,48,1)\n",
        "valid_images_cnn = X_valid.reshape(3589,48,48, 1)\n",
        "test_images_cnn = X_test.reshape(3589,48,48,1)\n",
        "print(train_images_cnn.shape, X_train_label.shape, valid_images_cnn.shape, X_valid_label.shape)"
      ],
      "execution_count": 47,
      "outputs": [
        {
          "output_type": "stream",
          "name": "stdout",
          "text": [
            "(28709, 48, 48, 1) (28709, 7) (3589, 48, 48, 1) (3589, 7)\n",
            "time: 3.31 ms (started: 2021-11-15 01:27:11 +00:00)\n"
          ]
        }
      ]
    },
    {
      "cell_type": "code",
      "metadata": {
        "colab": {
          "base_uri": "https://localhost:8080/"
        },
        "id": "A0Gt9Todhi_U",
        "outputId": "6f02ddb2-a930-4f0b-c7eb-29ddcff6be29"
      },
      "source": [
        "checkpoint_cnn1 = ModelCheckpoint(\"best_model_cnn1.hdf5\", monitor = 'val_loss', verbose = 1,\n",
        "    save_best_only = True, mode =' min', period = 1)"
      ],
      "execution_count": 67,
      "outputs": [
        {
          "output_type": "stream",
          "name": "stdout",
          "text": [
            "WARNING:tensorflow:`period` argument is deprecated. Please use `save_freq` to specify the frequency in number of batches seen.\n",
            "WARNING:tensorflow:ModelCheckpoint mode  min is unknown, fallback to auto mode.\n",
            "time: 9.09 ms (started: 2021-11-14 22:24:43 +00:00)\n"
          ]
        }
      ]
    },
    {
      "cell_type": "code",
      "metadata": {
        "id": "BxBtm_q3vBZE",
        "colab": {
          "base_uri": "https://localhost:8080/"
        },
        "outputId": "ef15c171-d3d9-458a-faf0-93654a3a6d61"
      },
      "source": [
        "#Validation CNN\n",
        "print(cnn_model.summary())  # Compare number of parameteres against FFN\n",
        "cnn_model.compile(optimizer='adam', loss='categorical_crossentropy',metrics=['accuracy'],)\n",
        "\"\"\n",
        "cnn_model1 = cnn_model.fit(train_images_cnn,X_train_label, validation_data = (valid_images_cnn, X_valid_label) ,callbacks=[checkpoint_cnn1],epochs=10, batch_size=256,)"
      ],
      "execution_count": 68,
      "outputs": [
        {
          "output_type": "stream",
          "name": "stdout",
          "text": [
            "Model: \"sequential_15\"\n",
            "_________________________________________________________________\n",
            " Layer (type)                Output Shape              Param #   \n",
            "=================================================================\n",
            " conv2d_12 (Conv2D)          (None, 46, 46, 96)        960       \n",
            "                                                                 \n",
            " conv2d_13 (Conv2D)          (None, 44, 44, 32)        27680     \n",
            "                                                                 \n",
            " max_pooling2d_6 (MaxPooling  (None, 22, 22, 32)       0         \n",
            " 2D)                                                             \n",
            "                                                                 \n",
            " conv2d_14 (Conv2D)          (None, 20, 20, 64)        18496     \n",
            "                                                                 \n",
            " conv2d_15 (Conv2D)          (None, 18, 18, 64)        36928     \n",
            "                                                                 \n",
            " max_pooling2d_7 (MaxPooling  (None, 9, 9, 64)         0         \n",
            " 2D)                                                             \n",
            "                                                                 \n",
            " flatten_3 (Flatten)         (None, 5184)              0         \n",
            "                                                                 \n",
            " dense_59 (Dense)            (None, 512)               2654720   \n",
            "                                                                 \n",
            " dense_60 (Dense)            (None, 7)                 3591      \n",
            "                                                                 \n",
            "=================================================================\n",
            "Total params: 2,742,375\n",
            "Trainable params: 2,742,375\n",
            "Non-trainable params: 0\n",
            "_________________________________________________________________\n",
            "None\n",
            "Epoch 1/10\n",
            "112/113 [============================>.] - ETA: 0s - loss: 1.6435 - accuracy: 0.3485\n",
            "Epoch 00001: val_loss improved from inf to 1.50071, saving model to best_model_cnn1.hdf5\n",
            "113/113 [==============================] - 14s 122ms/step - loss: 1.6430 - accuracy: 0.3487 - val_loss: 1.5007 - val_accuracy: 0.4171\n",
            "Epoch 2/10\n",
            "112/113 [============================>.] - ETA: 0s - loss: 1.3886 - accuracy: 0.4697\n",
            "Epoch 00002: val_loss improved from 1.50071 to 1.30980, saving model to best_model_cnn1.hdf5\n",
            "113/113 [==============================] - 14s 120ms/step - loss: 1.3887 - accuracy: 0.4696 - val_loss: 1.3098 - val_accuracy: 0.4979\n",
            "Epoch 3/10\n",
            "112/113 [============================>.] - ETA: 0s - loss: 1.2219 - accuracy: 0.5375\n",
            "Epoch 00003: val_loss improved from 1.30980 to 1.29369, saving model to best_model_cnn1.hdf5\n",
            "113/113 [==============================] - 14s 120ms/step - loss: 1.2221 - accuracy: 0.5374 - val_loss: 1.2937 - val_accuracy: 0.5060\n",
            "Epoch 4/10\n",
            "112/113 [============================>.] - ETA: 0s - loss: 1.0955 - accuracy: 0.5896\n",
            "Epoch 00004: val_loss improved from 1.29369 to 1.22224, saving model to best_model_cnn1.hdf5\n",
            "113/113 [==============================] - 14s 120ms/step - loss: 1.0952 - accuracy: 0.5898 - val_loss: 1.2222 - val_accuracy: 0.5408\n",
            "Epoch 5/10\n",
            "112/113 [============================>.] - ETA: 0s - loss: 0.9407 - accuracy: 0.6533\n",
            "Epoch 00005: val_loss did not improve from 1.22224\n",
            "113/113 [==============================] - 13s 119ms/step - loss: 0.9403 - accuracy: 0.6534 - val_loss: 1.2465 - val_accuracy: 0.5600\n",
            "Epoch 6/10\n",
            "112/113 [============================>.] - ETA: 0s - loss: 0.7743 - accuracy: 0.7187\n",
            "Epoch 00006: val_loss did not improve from 1.22224\n",
            "113/113 [==============================] - 13s 118ms/step - loss: 0.7745 - accuracy: 0.7186 - val_loss: 1.3362 - val_accuracy: 0.5400\n",
            "Epoch 7/10\n",
            "112/113 [============================>.] - ETA: 0s - loss: 0.5597 - accuracy: 0.8026\n",
            "Epoch 00007: val_loss did not improve from 1.22224\n",
            "113/113 [==============================] - 13s 119ms/step - loss: 0.5596 - accuracy: 0.8026 - val_loss: 1.4270 - val_accuracy: 0.5667\n",
            "Epoch 8/10\n",
            "112/113 [============================>.] - ETA: 0s - loss: 0.3352 - accuracy: 0.8843\n",
            "Epoch 00008: val_loss did not improve from 1.22224\n",
            "113/113 [==============================] - 13s 119ms/step - loss: 0.3355 - accuracy: 0.8842 - val_loss: 1.8666 - val_accuracy: 0.5667\n",
            "Epoch 9/10\n",
            "112/113 [============================>.] - ETA: 0s - loss: 0.2109 - accuracy: 0.9298\n",
            "Epoch 00009: val_loss did not improve from 1.22224\n",
            "113/113 [==============================] - 13s 119ms/step - loss: 0.2108 - accuracy: 0.9298 - val_loss: 2.1892 - val_accuracy: 0.5620\n",
            "Epoch 10/10\n",
            "112/113 [============================>.] - ETA: 0s - loss: 0.1319 - accuracy: 0.9611\n",
            "Epoch 00010: val_loss did not improve from 1.22224\n",
            "113/113 [==============================] - 13s 119ms/step - loss: 0.1318 - accuracy: 0.9611 - val_loss: 2.5242 - val_accuracy: 0.5584\n",
            "time: 2min 15s (started: 2021-11-14 22:24:45 +00:00)\n"
          ]
        }
      ]
    },
    {
      "cell_type": "code",
      "metadata": {
        "id": "VOORraemvElB",
        "colab": {
          "base_uri": "https://localhost:8080/",
          "height": 828
        },
        "outputId": "064d1aff-076f-4d38-9554-d97ed92ea5f5"
      },
      "source": [
        "cnn_model.summary()\n",
        "train_loss_cnn1 = cnn_model1.history['loss']\n",
        "valid_loss_cnn1 = cnn_model1.history['val_loss']\n",
        "plt.plot(train_loss_cnn1, 'r', label='Training loss')\n",
        "plt.plot(valid_loss_cnn1, 'b', label='Validation loss')\n",
        "plt.title('CNN Model 1') \n",
        "plt.xlabel('Epochs') \n",
        "plt.ylabel('Loss')\n",
        "plt.legend()\n",
        "plt.show()\n"
      ],
      "execution_count": 69,
      "outputs": [
        {
          "output_type": "stream",
          "name": "stdout",
          "text": [
            "Model: \"sequential_15\"\n",
            "_________________________________________________________________\n",
            " Layer (type)                Output Shape              Param #   \n",
            "=================================================================\n",
            " conv2d_12 (Conv2D)          (None, 46, 46, 96)        960       \n",
            "                                                                 \n",
            " conv2d_13 (Conv2D)          (None, 44, 44, 32)        27680     \n",
            "                                                                 \n",
            " max_pooling2d_6 (MaxPooling  (None, 22, 22, 32)       0         \n",
            " 2D)                                                             \n",
            "                                                                 \n",
            " conv2d_14 (Conv2D)          (None, 20, 20, 64)        18496     \n",
            "                                                                 \n",
            " conv2d_15 (Conv2D)          (None, 18, 18, 64)        36928     \n",
            "                                                                 \n",
            " max_pooling2d_7 (MaxPooling  (None, 9, 9, 64)         0         \n",
            " 2D)                                                             \n",
            "                                                                 \n",
            " flatten_3 (Flatten)         (None, 5184)              0         \n",
            "                                                                 \n",
            " dense_59 (Dense)            (None, 512)               2654720   \n",
            "                                                                 \n",
            " dense_60 (Dense)            (None, 7)                 3591      \n",
            "                                                                 \n",
            "=================================================================\n",
            "Total params: 2,742,375\n",
            "Trainable params: 2,742,375\n",
            "Non-trainable params: 0\n",
            "_________________________________________________________________\n"
          ]
        },
        {
          "output_type": "display_data",
          "data": {
            "image/png": "[encoded data removed]",
            "text/plain": [
              "<Figure size 432x288 with 1 Axes>"
            ]
          },
          "metadata": {
            "needs_background": "light"
          }
        },
        {
          "output_type": "stream",
          "name": "stdout",
          "text": [
            "time: 197 ms (started: 2021-11-14 22:29:29 +00:00)\n"
          ]
        }
      ]
    },
    {
      "cell_type": "code",
      "metadata": {
        "colab": {
          "base_uri": "https://localhost:8080/"
        },
        "id": "gbLoQscRh0Tp",
        "outputId": "e46b83e0-272a-4018-e882-d47b60f87548"
      },
      "source": [
        "best_model_cnn1 = keras.models.load_model(\"best_model_cnn1.hdf5\")\n",
        "score = best_model_cnn1.evaluate(train_images_cnn, X_train_label, verbose=0)\n",
        "score1 = best_model_cnn1.evaluate(valid_images_cnn, X_valid_label, verbose=0)\n",
        "print(\"Accuracy on Training Set\", score[1], \"\\nAccuracy on Validation Set\", score1[1])"
      ],
      "execution_count": 71,
      "outputs": [
        {
          "output_type": "stream",
          "name": "stdout",
          "text": [
            "Accuracy on Training Set 0.6369431018829346 \n",
            "Accuracy on Validation Set 0.5408191680908203\n",
            "time: 9.02 s (started: 2021-11-14 22:30:26 +00:00)\n"
          ]
        }
      ]
    },
    {
      "cell_type": "markdown",
      "metadata": {
        "id": "JKds4Pe8jk5T"
      },
      "source": [
        "CNN Model -1:\n",
        "\n",
        "*   Accuracy on the training dataset: 63%\n",
        "*   Accuracy on the validation dataset:54%\n",
        "*   Running time: 3min 17s\n",
        "*   Parameters: 3 convolution layers, 2 max pooling layers, optimizer: adam, without dropout, without regularization\n",
        "* The best model has been saved while training by monitoring the validation loss and the loss curve is plotted above. \n",
        "\n",
        "\n",
        "\n"
      ]
    },
    {
      "cell_type": "code",
      "metadata": {
        "id": "n2sw9D9FiFZA"
      },
      "source": [
        "checkpoint_cnn2 = ModelCheckpoint(\"best_model_cnn2.hdf5\", monitor = 'val_loss', verbose = 1,\n",
        "    save_best_only = True, mode =' min', period = 1)"
      ],
      "execution_count": null,
      "outputs": []
    },
    {
      "cell_type": "code",
      "metadata": {
        "colab": {
          "base_uri": "https://localhost:8080/"
        },
        "id": "YqISlcA2Rn1U",
        "outputId": "0e380078-0536-447b-ac48-82fc7443ff50"
      },
      "source": [
        "#CNN Model 2: 4 conv layers, filter= 4, strides = 1, optimizer = rmsprop, with droput, without regularization\n",
        "cnn_model2 = Sequential([Conv2D(96, kernel_size=4,strides = 1, activation='relu', input_shape=(48,48,1)), \n",
        "            Dropout(0.2),\n",
        "            Conv2D(32, kernel_size=4, strides =1, activation='relu'), \n",
        "            Dropout(0.2),\n",
        "            MaxPooling2D(pool_size=(2,2)),\n",
        "            Conv2D(64, kernel_size=4,strides=1, activation='relu'),\n",
        "            Dropout(0.2),\n",
        "            Conv2D(64, kernel_size=4, activation='relu'), \n",
        "            MaxPooling2D(pool_size=(2,2)), \n",
        "            Flatten(),Dense(512, activation='relu'), Dense(7, activation='softmax'),])\n",
        "print(cnn_model2.summary())  # Compare number of parameteres against FFN\n",
        "cnn_model2.compile(optimizer='rmsprop', loss='categorical_crossentropy',metrics=['accuracy'],)\n",
        "cnn_model22 = cnn_model2.fit(train_images_cnn,X_train_label ,validation_data = (valid_images_cnn, X_valid_label), callbacks= [checkpoint_cnn2], epochs=10, batch_size=128,)"
      ],
      "execution_count": 38,
      "outputs": [
        {
          "output_type": "stream",
          "name": "stdout",
          "text": [
            "Model: \"sequential_6\"\n",
            "_________________________________________________________________\n",
            " Layer (type)                Output Shape              Param #   \n",
            "=================================================================\n",
            " conv2d_8 (Conv2D)           (None, 45, 45, 96)        1632      \n",
            "                                                                 \n",
            " dropout_3 (Dropout)         (None, 45, 45, 96)        0         \n",
            "                                                                 \n",
            " conv2d_9 (Conv2D)           (None, 42, 42, 32)        49184     \n",
            "                                                                 \n",
            " dropout_4 (Dropout)         (None, 42, 42, 32)        0         \n",
            "                                                                 \n",
            " max_pooling2d_4 (MaxPooling  (None, 21, 21, 32)       0         \n",
            " 2D)                                                             \n",
            "                                                                 \n",
            " conv2d_10 (Conv2D)          (None, 18, 18, 64)        32832     \n",
            "                                                                 \n",
            " dropout_5 (Dropout)         (None, 18, 18, 64)        0         \n",
            "                                                                 \n",
            " conv2d_11 (Conv2D)          (None, 15, 15, 64)        65600     \n",
            "                                                                 \n",
            " max_pooling2d_5 (MaxPooling  (None, 7, 7, 64)         0         \n",
            " 2D)                                                             \n",
            "                                                                 \n",
            " flatten_2 (Flatten)         (None, 3136)              0         \n",
            "                                                                 \n",
            " dense_26 (Dense)            (None, 512)               1606144   \n",
            "                                                                 \n",
            " dense_27 (Dense)            (None, 7)                 3591      \n",
            "                                                                 \n",
            "=================================================================\n",
            "Total params: 1,758,983\n",
            "Trainable params: 1,758,983\n",
            "Non-trainable params: 0\n",
            "_________________________________________________________________\n",
            "None\n",
            "Epoch 1/10\n",
            "225/225 [==============================] - ETA: 0s - loss: 1.6641 - accuracy: 0.3382\n",
            "Epoch 00001: val_loss improved from inf to 1.50293, saving model to best_model_cnn2.hdf5\n",
            "225/225 [==============================] - 23s 95ms/step - loss: 1.6641 - accuracy: 0.3382 - val_loss: 1.5029 - val_accuracy: 0.4079\n",
            "Epoch 2/10\n",
            "224/225 [============================>.] - ETA: 0s - loss: 1.3826 - accuracy: 0.4710\n",
            "Epoch 00002: val_loss improved from 1.50293 to 1.29836, saving model to best_model_cnn2.hdf5\n",
            "225/225 [==============================] - 21s 92ms/step - loss: 1.3824 - accuracy: 0.4711 - val_loss: 1.2984 - val_accuracy: 0.5049\n",
            "Epoch 3/10\n",
            "224/225 [============================>.] - ETA: 0s - loss: 1.2274 - accuracy: 0.5344\n",
            "Epoch 00003: val_loss improved from 1.29836 to 1.26358, saving model to best_model_cnn2.hdf5\n",
            "225/225 [==============================] - 21s 93ms/step - loss: 1.2275 - accuracy: 0.5345 - val_loss: 1.2636 - val_accuracy: 0.5146\n",
            "Epoch 4/10\n",
            "224/225 [============================>.] - ETA: 0s - loss: 1.1110 - accuracy: 0.5837\n",
            "Epoch 00004: val_loss improved from 1.26358 to 1.25759, saving model to best_model_cnn2.hdf5\n",
            "225/225 [==============================] - 21s 93ms/step - loss: 1.1111 - accuracy: 0.5837 - val_loss: 1.2576 - val_accuracy: 0.5339\n",
            "Epoch 5/10\n",
            "224/225 [============================>.] - ETA: 0s - loss: 0.9999 - accuracy: 0.6270\n",
            "Epoch 00005: val_loss improved from 1.25759 to 1.15596, saving model to best_model_cnn2.hdf5\n",
            "225/225 [==============================] - 21s 92ms/step - loss: 0.9999 - accuracy: 0.6269 - val_loss: 1.1560 - val_accuracy: 0.5720\n",
            "Epoch 6/10\n",
            "224/225 [============================>.] - ETA: 0s - loss: 0.8724 - accuracy: 0.6787\n",
            "Epoch 00006: val_loss did not improve from 1.15596\n",
            "225/225 [==============================] - 21s 92ms/step - loss: 0.8723 - accuracy: 0.6787 - val_loss: 1.2125 - val_accuracy: 0.5695\n",
            "Epoch 7/10\n",
            "224/225 [============================>.] - ETA: 0s - loss: 0.7232 - accuracy: 0.7388\n",
            "Epoch 00007: val_loss did not improve from 1.15596\n",
            "225/225 [==============================] - 21s 93ms/step - loss: 0.7229 - accuracy: 0.7389 - val_loss: 1.2996 - val_accuracy: 0.5584\n",
            "Epoch 8/10\n",
            "224/225 [============================>.] - ETA: 0s - loss: 0.5741 - accuracy: 0.7957\n",
            "Epoch 00008: val_loss did not improve from 1.15596\n",
            "225/225 [==============================] - 21s 95ms/step - loss: 0.5741 - accuracy: 0.7957 - val_loss: 1.3703 - val_accuracy: 0.5659\n",
            "Epoch 9/10\n",
            "224/225 [============================>.] - ETA: 0s - loss: 0.4394 - accuracy: 0.8475\n",
            "Epoch 00009: val_loss did not improve from 1.15596\n",
            "225/225 [==============================] - 21s 92ms/step - loss: 0.4394 - accuracy: 0.8475 - val_loss: 1.5135 - val_accuracy: 0.5843\n",
            "Epoch 10/10\n",
            "224/225 [============================>.] - ETA: 0s - loss: 0.3401 - accuracy: 0.8819\n",
            "Epoch 00010: val_loss did not improve from 1.15596\n",
            "225/225 [==============================] - 21s 93ms/step - loss: 0.3402 - accuracy: 0.8818 - val_loss: 1.6592 - val_accuracy: 0.5508\n",
            "time: 4min 23s (started: 2021-11-15 00:53:50 +00:00)\n"
          ]
        }
      ]
    },
    {
      "cell_type": "code",
      "metadata": {
        "colab": {
          "base_uri": "https://localhost:8080/",
          "height": 935
        },
        "id": "8NTkqq-SpiE6",
        "outputId": "acf14da5-d77a-4e5a-b5d4-21b563ee854b"
      },
      "source": [
        "cnn_model2.summary()\n",
        "train_loss_cnn2 = cnn_model22.history['loss']\n",
        "valid_loss_cnn2 = cnn_model22.history['val_loss']\n",
        "plt.plot(train_loss_cnn2, 'r', label='Training loss')\n",
        "plt.plot(valid_loss_cnn2, 'b', label='Validation loss')\n",
        "plt.title('CNN Model 2') \n",
        "plt.xlabel('Epochs') \n",
        "plt.ylabel('Loss')\n",
        "plt.legend()\n",
        "plt.show()"
      ],
      "execution_count": 39,
      "outputs": [
        {
          "output_type": "stream",
          "name": "stdout",
          "text": [
            "Model: \"sequential_6\"\n",
            "_________________________________________________________________\n",
            " Layer (type)                Output Shape              Param #   \n",
            "=================================================================\n",
            " conv2d_8 (Conv2D)           (None, 45, 45, 96)        1632      \n",
            "                                                                 \n",
            " dropout_3 (Dropout)         (None, 45, 45, 96)        0         \n",
            "                                                                 \n",
            " conv2d_9 (Conv2D)           (None, 42, 42, 32)        49184     \n",
            "                                                                 \n",
            " dropout_4 (Dropout)         (None, 42, 42, 32)        0         \n",
            "                                                                 \n",
            " max_pooling2d_4 (MaxPooling  (None, 21, 21, 32)       0         \n",
            " 2D)                                                             \n",
            "                                                                 \n",
            " conv2d_10 (Conv2D)          (None, 18, 18, 64)        32832     \n",
            "                                                                 \n",
            " dropout_5 (Dropout)         (None, 18, 18, 64)        0         \n",
            "                                                                 \n",
            " conv2d_11 (Conv2D)          (None, 15, 15, 64)        65600     \n",
            "                                                                 \n",
            " max_pooling2d_5 (MaxPooling  (None, 7, 7, 64)         0         \n",
            " 2D)                                                             \n",
            "                                                                 \n",
            " flatten_2 (Flatten)         (None, 3136)              0         \n",
            "                                                                 \n",
            " dense_26 (Dense)            (None, 512)               1606144   \n",
            "                                                                 \n",
            " dense_27 (Dense)            (None, 7)                 3591      \n",
            "                                                                 \n",
            "=================================================================\n",
            "Total params: 1,758,983\n",
            "Trainable params: 1,758,983\n",
            "Non-trainable params: 0\n",
            "_________________________________________________________________\n"
          ]
        },
        {
          "output_type": "display_data",
          "data": {
            "image/png": "[encoded data removed]",
            "text/plain": [
              "<Figure size 432x288 with 1 Axes>"
            ]
          },
          "metadata": {
            "needs_background": "light"
          }
        },
        {
          "output_type": "stream",
          "name": "stdout",
          "text": [
            "time: 212 ms (started: 2021-11-15 00:58:27 +00:00)\n"
          ]
        }
      ]
    },
    {
      "cell_type": "code",
      "metadata": {
        "colab": {
          "base_uri": "https://localhost:8080/"
        },
        "id": "BGRWQp8epFyx",
        "outputId": "8f4c868f-3c19-4b3c-d0c0-430eef07848f"
      },
      "source": [
        "best_model_cnn2 = keras.models.load_model(\"best_model_cnn2.hdf5\")\n",
        "score = best_model_cnn2.evaluate(train_images_cnn, X_train_label, verbose=0)\n",
        "score1 = best_model_cnn2.evaluate(valid_images_cnn, X_valid_label, verbose=0)\n",
        "print(\"Accuracy on Training Set\", score[1], \"\\nAccuracy on Validation Set\", score1[1])"
      ],
      "execution_count": 40,
      "outputs": [
        {
          "output_type": "stream",
          "name": "stdout",
          "text": [
            "Accuracy on Training Set 0.7036120891571045 \n",
            "Accuracy on Validation Set 0.5720256567001343\n",
            "time: 11 s (started: 2021-11-15 00:58:32 +00:00)\n"
          ]
        }
      ]
    },
    {
      "cell_type": "markdown",
      "metadata": {
        "id": "Ea8sDfsZnr2K"
      },
      "source": [
        "CNN Model -2:\n",
        "\n",
        "*   Accuracy on the training dataset: 70%\n",
        "*   Accuracy on the validation dataset:57%\n",
        "*   Running time: 4min 23s\n",
        "*   Parameters: 4 conv layers, filter= 4, strides = 1, optimizer = rmsprop, with droput, without regularization\n",
        "* The best model has been saved while training by monitoring the validation loss and the loss curve is plotted above. \n",
        "\n",
        "\n",
        "\n"
      ]
    },
    {
      "cell_type": "code",
      "metadata": {
        "colab": {
          "base_uri": "https://localhost:8080/"
        },
        "id": "v5TDXSBriGUy",
        "outputId": "063be296-b121-4e27-cf92-76cabadbada1"
      },
      "source": [
        "checkpoint_cnn3 = ModelCheckpoint(\"best_model_cnn3.hdf5\", monitor = 'val_loss', verbose = 1,\n",
        "    save_best_only = True, mode =' min', period = 1)"
      ],
      "execution_count": 92,
      "outputs": [
        {
          "output_type": "stream",
          "name": "stdout",
          "text": [
            "WARNING:tensorflow:`period` argument is deprecated. Please use `save_freq` to specify the frequency in number of batches seen.\n",
            "WARNING:tensorflow:ModelCheckpoint mode  min is unknown, fallback to auto mode.\n",
            "time: 6.92 ms (started: 2021-11-14 23:09:00 +00:00)\n"
          ]
        }
      ]
    },
    {
      "cell_type": "code",
      "metadata": {
        "colab": {
          "base_uri": "https://localhost:8080/"
        },
        "id": "apVPmeeHYyN0",
        "outputId": "15bf12b1-50e5-4940-a521-8a0dfed0afcc"
      },
      "source": [
        "#CNN Model 3: 1, filter= 4, stride = 1, optimizer = adam, dense 256, with regularization\n",
        "cnn_model3 = Sequential([Conv2D(96, kernel_size=4, strides = 1,kernel_regularizer=l2(0.01),  activation='relu', input_shape=(48,48,1)), \n",
        "            Conv2D(32, kernel_size=4, strides = 1, kernel_regularizer=l2(0.01), activation='relu'),  \n",
        "            Dropout(0.25),\n",
        "            MaxPooling2D(pool_size=(2,2)),\n",
        "            Conv2D(64, kernel_size=4, strides= 1, kernel_regularizer=l2(0.01), activation='relu'),\n",
        "            Conv2D(64, kernel_size=4, strides = 1, kernel_regularizer=l2(0.01),activation='relu'), \n",
        "            MaxPooling2D(pool_size=(2,2)), \n",
        "            Flatten(),Dense(256, activation='relu'), Dense(7, activation='softmax'),])\n",
        "print(cnn_model3.summary())  # Compare number of parameteres against FFN\n",
        "cnn_model3.compile(optimizer='adam', loss='categorical_crossentropy',metrics=['accuracy'],)\n",
        "cnn_model33 = cnn_model3.fit(train_images_cnn,X_train_label, validation_data = (valid_images_cnn, X_valid_label),  callbacks = [checkpoint_cnn3], epochs=10, batch_size=128,)\n",
        "performance = cnn_model.evaluate(test_images_cnn, X_test_label)\n",
        "\n",
        "print(\"Accuracy on Test samples: {0}\".format(performance[1]))"
      ],
      "execution_count": 95,
      "outputs": [
        {
          "output_type": "stream",
          "name": "stdout",
          "text": [
            "Model: \"sequential_25\"\n",
            "_________________________________________________________________\n",
            " Layer (type)                Output Shape              Param #   \n",
            "=================================================================\n",
            " conv2d_52 (Conv2D)          (None, 45, 45, 96)        1632      \n",
            "                                                                 \n",
            " conv2d_53 (Conv2D)          (None, 42, 42, 32)        49184     \n",
            "                                                                 \n",
            " dropout_19 (Dropout)        (None, 42, 42, 32)        0         \n",
            "                                                                 \n",
            " max_pooling2d_26 (MaxPoolin  (None, 21, 21, 32)       0         \n",
            " g2D)                                                            \n",
            "                                                                 \n",
            " conv2d_54 (Conv2D)          (None, 18, 18, 64)        32832     \n",
            "                                                                 \n",
            " conv2d_55 (Conv2D)          (None, 15, 15, 64)        65600     \n",
            "                                                                 \n",
            " max_pooling2d_27 (MaxPoolin  (None, 7, 7, 64)         0         \n",
            " g2D)                                                            \n",
            "                                                                 \n",
            " flatten_13 (Flatten)        (None, 3136)              0         \n",
            "                                                                 \n",
            " dense_79 (Dense)            (None, 256)               803072    \n",
            "                                                                 \n",
            " dense_80 (Dense)            (None, 7)                 1799      \n",
            "                                                                 \n",
            "=================================================================\n",
            "Total params: 954,119\n",
            "Trainable params: 954,119\n",
            "Non-trainable params: 0\n",
            "_________________________________________________________________\n",
            "None\n",
            "Epoch 1/10\n",
            "224/225 [============================>.] - ETA: 0s - loss: 1.8431 - accuracy: 0.3341\n",
            "Epoch 00001: val_loss improved from inf to 1.64371, saving model to best_model_cnn3.hdf5\n",
            "225/225 [==============================] - 19s 82ms/step - loss: 1.8429 - accuracy: 0.3343 - val_loss: 1.6437 - val_accuracy: 0.3904\n",
            "Epoch 2/10\n",
            "224/225 [============================>.] - ETA: 0s - loss: 1.5569 - accuracy: 0.4223\n",
            "Epoch 00002: val_loss improved from 1.64371 to 1.51792, saving model to best_model_cnn3.hdf5\n",
            "225/225 [==============================] - 18s 80ms/step - loss: 1.5567 - accuracy: 0.4223 - val_loss: 1.5179 - val_accuracy: 0.4363\n",
            "Epoch 3/10\n",
            "224/225 [============================>.] - ETA: 0s - loss: 1.4911 - accuracy: 0.4498\n",
            "Epoch 00003: val_loss improved from 1.51792 to 1.47540, saving model to best_model_cnn3.hdf5\n",
            "225/225 [==============================] - 18s 80ms/step - loss: 1.4911 - accuracy: 0.4498 - val_loss: 1.4754 - val_accuracy: 0.4617\n",
            "Epoch 4/10\n",
            "224/225 [============================>.] - ETA: 0s - loss: 1.4507 - accuracy: 0.4705\n",
            "Epoch 00004: val_loss improved from 1.47540 to 1.47177, saving model to best_model_cnn3.hdf5\n",
            "225/225 [==============================] - 18s 79ms/step - loss: 1.4507 - accuracy: 0.4706 - val_loss: 1.4718 - val_accuracy: 0.4675\n",
            "Epoch 5/10\n",
            "224/225 [============================>.] - ETA: 0s - loss: 1.4041 - accuracy: 0.4892\n",
            "Epoch 00005: val_loss improved from 1.47177 to 1.42291, saving model to best_model_cnn3.hdf5\n",
            "225/225 [==============================] - 18s 79ms/step - loss: 1.4043 - accuracy: 0.4891 - val_loss: 1.4229 - val_accuracy: 0.4845\n",
            "Epoch 6/10\n",
            "224/225 [============================>.] - ETA: 0s - loss: 1.3686 - accuracy: 0.5082\n",
            "Epoch 00006: val_loss improved from 1.42291 to 1.41974, saving model to best_model_cnn3.hdf5\n",
            "225/225 [==============================] - 18s 79ms/step - loss: 1.3684 - accuracy: 0.5085 - val_loss: 1.4197 - val_accuracy: 0.4951\n",
            "Epoch 7/10\n",
            "224/225 [============================>.] - ETA: 0s - loss: 1.3285 - accuracy: 0.5287\n",
            "Epoch 00007: val_loss improved from 1.41974 to 1.38699, saving model to best_model_cnn3.hdf5\n",
            "225/225 [==============================] - 18s 79ms/step - loss: 1.3284 - accuracy: 0.5288 - val_loss: 1.3870 - val_accuracy: 0.5110\n",
            "Epoch 8/10\n",
            "224/225 [============================>.] - ETA: 0s - loss: 1.2920 - accuracy: 0.5468\n",
            "Epoch 00008: val_loss did not improve from 1.38699\n",
            "225/225 [==============================] - 18s 78ms/step - loss: 1.2920 - accuracy: 0.5469 - val_loss: 1.3889 - val_accuracy: 0.4976\n",
            "Epoch 9/10\n",
            "224/225 [============================>.] - ETA: 0s - loss: 1.2523 - accuracy: 0.5633\n",
            "Epoch 00009: val_loss did not improve from 1.38699\n",
            "225/225 [==============================] - 18s 79ms/step - loss: 1.2525 - accuracy: 0.5634 - val_loss: 1.4141 - val_accuracy: 0.4954\n",
            "Epoch 10/10\n",
            "224/225 [============================>.] - ETA: 0s - loss: 1.2092 - accuracy: 0.5860\n",
            "Epoch 00010: val_loss improved from 1.38699 to 1.37087, saving model to best_model_cnn3.hdf5\n",
            "225/225 [==============================] - 18s 79ms/step - loss: 1.2089 - accuracy: 0.5861 - val_loss: 1.3709 - val_accuracy: 0.5233\n",
            "113/113 [==============================] - 1s 10ms/step - loss: 2.4022 - accuracy: 0.5609\n",
            "Accuracy on Test samples: 0.5608804821968079\n",
            "time: 3min 1s (started: 2021-11-14 23:09:55 +00:00)\n"
          ]
        }
      ]
    },
    {
      "cell_type": "code",
      "metadata": {
        "colab": {
          "base_uri": "https://localhost:8080/",
          "height": 864
        },
        "id": "cQrh8FJTp22M",
        "outputId": "4ee9ca1c-50b4-409e-ea42-16c95a7e0051"
      },
      "source": [
        "cnn_model3.summary()\n",
        "train_loss_cnn3 = cnn_model33.history['loss']\n",
        "valid_loss_cnn3 = cnn_model33.history['val_loss']\n",
        "plt.plot(train_loss_cnn3, 'r', label='Training loss')\n",
        "plt.plot(valid_loss_cnn3, 'b', label='Validation loss')\n",
        "plt.title('CNN Model 3') \n",
        "plt.xlabel('Epochs') \n",
        "plt.ylabel('Loss')\n",
        "plt.legend()\n",
        "plt.show()"
      ],
      "execution_count": 96,
      "outputs": [
        {
          "output_type": "stream",
          "name": "stdout",
          "text": [
            "Model: \"sequential_25\"\n",
            "_________________________________________________________________\n",
            " Layer (type)                Output Shape              Param #   \n",
            "=================================================================\n",
            " conv2d_52 (Conv2D)          (None, 45, 45, 96)        1632      \n",
            "                                                                 \n",
            " conv2d_53 (Conv2D)          (None, 42, 42, 32)        49184     \n",
            "                                                                 \n",
            " dropout_19 (Dropout)        (None, 42, 42, 32)        0         \n",
            "                                                                 \n",
            " max_pooling2d_26 (MaxPoolin  (None, 21, 21, 32)       0         \n",
            " g2D)                                                            \n",
            "                                                                 \n",
            " conv2d_54 (Conv2D)          (None, 18, 18, 64)        32832     \n",
            "                                                                 \n",
            " conv2d_55 (Conv2D)          (None, 15, 15, 64)        65600     \n",
            "                                                                 \n",
            " max_pooling2d_27 (MaxPoolin  (None, 7, 7, 64)         0         \n",
            " g2D)                                                            \n",
            "                                                                 \n",
            " flatten_13 (Flatten)        (None, 3136)              0         \n",
            "                                                                 \n",
            " dense_79 (Dense)            (None, 256)               803072    \n",
            "                                                                 \n",
            " dense_80 (Dense)            (None, 7)                 1799      \n",
            "                                                                 \n",
            "=================================================================\n",
            "Total params: 954,119\n",
            "Trainable params: 954,119\n",
            "Non-trainable params: 0\n",
            "_________________________________________________________________\n"
          ]
        },
        {
          "output_type": "display_data",
          "data": {
            "image/png": "[encoded data removed]",
            "text/plain": [
              "<Figure size 432x288 with 1 Axes>"
            ]
          },
          "metadata": {
            "needs_background": "light"
          }
        },
        {
          "output_type": "stream",
          "name": "stdout",
          "text": [
            "time: 225 ms (started: 2021-11-14 23:13:35 +00:00)\n"
          ]
        }
      ]
    },
    {
      "cell_type": "code",
      "metadata": {
        "colab": {
          "base_uri": "https://localhost:8080/"
        },
        "id": "Fh13sal8qTOZ",
        "outputId": "3de90199-1b5f-486e-d916-eb7d9e0fca3e"
      },
      "source": [
        "best_model_cnn3 = keras.models.load_model(\"best_model_cnn3.hdf5\")\n",
        "score = best_model_cnn3.evaluate(train_images_cnn, X_train_label, verbose=0)\n",
        "score1 = best_model_cnn3.evaluate(valid_images_cnn, X_valid_label, verbose=0)\n",
        "print(\"Accuracy on Training Set\", score[1], \"\\nAccuracy on Validation Set\", score1[1])"
      ],
      "execution_count": 98,
      "outputs": [
        {
          "output_type": "stream",
          "name": "stdout",
          "text": [
            "Accuracy on Training Set 0.6187955141067505 \n",
            "Accuracy on Validation Set 0.523265540599823\n",
            "time: 11.1 s (started: 2021-11-14 23:13:57 +00:00)\n"
          ]
        }
      ]
    },
    {
      "cell_type": "markdown",
      "metadata": {
        "id": "ptyLOQBMn2PB"
      },
      "source": [
        "CNN Model -3:\n",
        "\n",
        "*   Accuracy on the training dataset: 61%\n",
        "*   Accuracy on the validation dataset:52%\n",
        "*   Running time: 3min 1s\n",
        "*   Parameters: 4 conv layers, filter= 4, strides = 1, optimizer = rmsprop, with droput, without regularization\n",
        "* The best model has been saved while training by monitoring the validation loss and the loss curve is plotted above. \n",
        "\n",
        "\n",
        "\n"
      ]
    },
    {
      "cell_type": "code",
      "metadata": {
        "colab": {
          "base_uri": "https://localhost:8080/"
        },
        "id": "BWJuxUTHgvBF",
        "outputId": "f4c30faf-6ba6-4e88-b5b6-2b375eafc0ac"
      },
      "source": [
        "#Testing on the best CNN model\n",
        "performance = best_model_cnn2.evaluate(test_images_cnn, X_test_label)\n",
        "\n",
        "print(\"Accuracy on Test samples: {0}\".format(performance[1]))"
      ],
      "execution_count": 100,
      "outputs": [
        {
          "output_type": "stream",
          "name": "stdout",
          "text": [
            "113/113 [==============================] - 1s 12ms/step - loss: 1.1435 - accuracy: 0.5890\n",
            "Accuracy on Test samples: 0.5890220403671265\n",
            "time: 2.64 s (started: 2021-11-14 23:15:36 +00:00)\n"
          ]
        }
      ]
    },
    {
      "cell_type": "markdown",
      "metadata": {
        "id": "kJfm8Kk1oMZh"
      },
      "source": [
        "**d.ii** Among the three CNN Models, model2 gives the best performance. So, we chose model1 and the test accuracy is 58.90%\n"
      ]
    },
    {
      "cell_type": "code",
      "metadata": {
        "colab": {
          "base_uri": "https://localhost:8080/"
        },
        "id": "XjZjqFj0GT89",
        "outputId": "cae0e67b-3920-4ad7-b819-2dc4fce958e0"
      },
      "source": [
        "#Bayesian optimization hyper parameter tuning\n",
        "import tensorflow as tf\n",
        "#importing keras from tensorflow\n",
        "from tensorflow import keras\n",
        "from tensorflow.keras.optimizers import Adam\n",
        "def build_model(hp):\n",
        "    # create model object\n",
        "    model = keras.Sequential([\n",
        "    #adding first convolutional layer    \n",
        "    keras.layers.Conv2D(\n",
        "        #adding filter \n",
        "        filters=hp.Int('conv_1_filter', min_value=32, max_value=128, step=16),\n",
        "        # adding filter size or kernel size\n",
        "        kernel_size=hp.Choice('conv_1_kernel', values = [3,5]),\n",
        "        #activation function\n",
        "        activation='relu',\n",
        "        input_shape=(48,48,1)),\n",
        "    # adding second convolutional layer \n",
        "    keras.layers.Conv2D(\n",
        "        #adding filter \n",
        "        filters=hp.Int('conv_2_filter', min_value=32, max_value=64, step=16),\n",
        "        #adding filter size or kernel size\n",
        "        kernel_size=hp.Choice('conv_2_kernel', values = [3,5]),\n",
        "        #activation function\n",
        "        activation='relu'\n",
        "    ),\n",
        "    #adding 1st Maxpooling\n",
        "    keras.layers.MaxPooling2D(\n",
        "        pool_size=hp.Choice('pool_2_kernel', values = [2,4]), \n",
        "        strides=(2,2), \n",
        "        padding='same'),\n",
        "    # adding third convolutional layer \n",
        "    keras.layers.Conv2D(\n",
        "        #adding filter \n",
        "        filters=hp.Int('conv_2_filter', min_value=32, max_value=64, step=16),\n",
        "        #adding filter size or kernel size\n",
        "        kernel_size=hp.Choice('conv_2_kernel', values = [3,5]),\n",
        "        #activation function\n",
        "        activation='relu'\n",
        "    ),\n",
        "    #adding 4th conv layer\n",
        "    keras.layers.Conv2D(\n",
        "        #adding filter \n",
        "        filters=hp.Int('conv_2_filter', min_value=32, max_value=64, step=16),\n",
        "        #adding filter size or kernel size\n",
        "        kernel_size=hp.Choice('conv_2_kernel', values = [3,5]),\n",
        "        #activation function\n",
        "        activation='relu'\n",
        "    ),\n",
        "    #adding 2nd Maxpooling\n",
        "    keras.layers.MaxPooling2D(\n",
        "        pool_size=hp.Choice('pool_2_kernel', values = [2,4]), \n",
        "        strides=(2,2), \n",
        "        padding='same'),    \n",
        "    # adding flatten layer    \n",
        "    keras.layers.Flatten(),\n",
        "    # adding dense layer    \n",
        "    keras.layers.Dense(\n",
        "        units=hp.Int('dense_1_units', min_value=32, max_value=128, step=16),\n",
        "        activation='relu'\n",
        "    ),\n",
        "    # output layer    \n",
        "    keras.layers.Dense(7, activation='softmax')\n",
        "    ])\n",
        "    #compilation of model\n",
        "    model.compile(optimizer=keras.optimizers.Adam(hp.Choice('learning_rate', values=[1e-2, 1e-3])),\n",
        "              loss='categorical_crossentropy',\n",
        "              metrics=['accuracy'])   \n",
        "    return model"
      ],
      "execution_count": 41,
      "outputs": [
        {
          "output_type": "stream",
          "name": "stdout",
          "text": [
            "time: 69.2 ms (started: 2021-11-15 00:59:19 +00:00)\n"
          ]
        }
      ]
    },
    {
      "cell_type": "code",
      "metadata": {
        "colab": {
          "base_uri": "https://localhost:8080/"
        },
        "id": "HRtb2oo8HpL8",
        "outputId": "716653ae-3565-458b-dab2-cd7885d9ce0c"
      },
      "source": [
        "# HyperBand algorithm from keras tuner\n",
        "import kerastuner as kt\n",
        "tuner = kt.BayesianOptimization(\n",
        "    build_model,\n",
        "    objective='val_accuracy',\n",
        "    max_trials = 4,\n",
        "    overwrite = True\n",
        ")\n",
        "tuner.search(train_images_cnn, X_train_label, validation_data =(valid_images_cnn, X_valid_label)  ,epochs=10)\n"
      ],
      "execution_count": 42,
      "outputs": [
        {
          "output_type": "stream",
          "name": "stdout",
          "text": [
            "Trial 4 Complete [00h 03m 23s]\n",
            "val_accuracy: 0.5497353076934814\n",
            "\n",
            "Best val_accuracy So Far: 0.5497353076934814\n",
            "Total elapsed time: 00h 13m 55s\n",
            "INFO:tensorflow:Oracle triggered exit\n",
            "time: 13min 56s (started: 2021-11-15 00:59:24 +00:00)\n"
          ]
        }
      ]
    },
    {
      "cell_type": "code",
      "metadata": {
        "colab": {
          "base_uri": "https://localhost:8080/"
        },
        "id": "YkrXxx0KwrgF",
        "outputId": "0fb1a437-1edf-45ab-8a4f-d5d990a1759a"
      },
      "source": [
        "print(tuner.get_best_models()[0].summary())\n",
        "print(tuner.get_best_hyperparameters()[0].values)\n",
        "\n",
        "model = tuner.get_best_models(num_models=1)[0]\n",
        "print (model.summary())\n",
        "# Evaluate the best model.\n",
        "loss, accuracy = model.evaluate(test_images_cnn, X_test_label)\n",
        "print('loss:', loss)\n",
        "print('accuracy:', accuracy)"
      ],
      "execution_count": 109,
      "outputs": [
        {
          "output_type": "stream",
          "name": "stdout",
          "text": [
            "Model: \"sequential\"\n",
            "_________________________________________________________________\n",
            " Layer (type)                Output Shape              Param #   \n",
            "=================================================================\n",
            " conv2d (Conv2D)             (None, 44, 44, 64)        1664      \n",
            "                                                                 \n",
            " conv2d_1 (Conv2D)           (None, 40, 40, 64)        102464    \n",
            "                                                                 \n",
            " max_pooling2d (MaxPooling2D  (None, 20, 20, 64)       0         \n",
            " )                                                               \n",
            "                                                                 \n",
            " conv2d_2 (Conv2D)           (None, 16, 16, 64)        102464    \n",
            "                                                                 \n",
            " max_pooling2d_1 (MaxPooling  (None, 8, 8, 64)         0         \n",
            " 2D)                                                             \n",
            "                                                                 \n",
            " flatten (Flatten)           (None, 4096)              0         \n",
            "                                                                 \n",
            " dense (Dense)               (None, 96)                393312    \n",
            "                                                                 \n",
            " dense_1 (Dense)             (None, 7)                 679       \n",
            "                                                                 \n",
            "=================================================================\n",
            "Total params: 600,583\n",
            "Trainable params: 600,583\n",
            "Non-trainable params: 0\n",
            "_________________________________________________________________\n",
            "WARNING:tensorflow:Unresolved object in checkpoint: (root).optimizer.iter\n",
            "WARNING:tensorflow:Unresolved object in checkpoint: (root).optimizer.beta_1\n",
            "WARNING:tensorflow:Unresolved object in checkpoint: (root).optimizer.beta_2\n",
            "WARNING:tensorflow:Unresolved object in checkpoint: (root).optimizer.decay\n",
            "WARNING:tensorflow:Unresolved object in checkpoint: (root).optimizer.learning_rate\n",
            "WARNING:tensorflow:A checkpoint was restored (e.g. tf.train.Checkpoint.restore or tf.keras.Model.load_weights) but not all checkpointed values were used. See above for specific issues. Use expect_partial() on the load status object, e.g. tf.train.Checkpoint.restore(...).expect_partial(), to silence these warnings, or use assert_consumed() to make the check explicit. See https://www.tensorflow.org/guide/checkpoint#loading_mechanics for details.\n",
            "None\n",
            "{'conv_1_filter': 64, 'conv_1_kernel': 5, 'conv_2_filter': 64, 'conv_2_kernel': 5, 'pool_2_kernel': 4, 'dense_1_units': 96, 'learning_rate': 0.001}\n",
            "Model: \"sequential\"\n",
            "_________________________________________________________________\n",
            " Layer (type)                Output Shape              Param #   \n",
            "=================================================================\n",
            " conv2d (Conv2D)             (None, 44, 44, 64)        1664      \n",
            "                                                                 \n",
            " conv2d_1 (Conv2D)           (None, 40, 40, 64)        102464    \n",
            "                                                                 \n",
            " max_pooling2d (MaxPooling2D  (None, 20, 20, 64)       0         \n",
            " )                                                               \n",
            "                                                                 \n",
            " conv2d_2 (Conv2D)           (None, 16, 16, 64)        102464    \n",
            "                                                                 \n",
            " max_pooling2d_1 (MaxPooling  (None, 8, 8, 64)         0         \n",
            " 2D)                                                             \n",
            "                                                                 \n",
            " flatten (Flatten)           (None, 4096)              0         \n",
            "                                                                 \n",
            " dense (Dense)               (None, 96)                393312    \n",
            "                                                                 \n",
            " dense_1 (Dense)             (None, 7)                 679       \n",
            "                                                                 \n",
            "=================================================================\n",
            "Total params: 600,583\n",
            "Trainable params: 600,583\n",
            "Non-trainable params: 0\n",
            "_________________________________________________________________\n",
            "None\n",
            "113/113 [==============================] - 1s 10ms/step - loss: 1.1305 - accuracy: 0.5704\n",
            "loss: 1.130492925643921\n",
            "accuracy: 0.5703538656234741\n",
            "time: 2.23 s (started: 2021-11-14 23:44:30 +00:00)\n"
          ]
        }
      ]
    },
    {
      "cell_type": "markdown",
      "metadata": {
        "id": "Jh3FV_iUyKhm"
      },
      "source": [
        "**e.** Using Bayesian Optimization, the model hyper parameters have been found to acieve the best performance. The test accuracy is 57%."
      ]
    },
    {
      "cell_type": "code",
      "metadata": {
        "id": "04k0s-6-vRWi",
        "colab": {
          "base_uri": "https://localhost:8080/"
        },
        "outputId": "a00ac92d-3b9f-4e22-8e87-c758f47d3068"
      },
      "source": [
        "#Fine Tuning\n",
        "#Model: 3 layers, without regularization\n",
        "from keras.applications import vgg16\n",
        "img_rows, img_cols = 48, 48\n",
        "\n",
        "modelX  = vgg16.VGG16( weights= \"imagenet\", include_top = False, input_shape = (img_rows, img_cols, 3))\n",
        "\n",
        "for layer in modelX.layers:\n",
        "  layer.trainable = False\n",
        "\n",
        "modelX.summary()\n",
        "\n",
        "def layer_adder(bottom_model, num_classes):\n",
        "  top_model = bottom_model.output\n",
        "  top_model = GlobalAveragePooling2D()(top_model)\n",
        "  top_model = Dense(1024, activation=\"relu\")(top_model)\n",
        "  top_model = Dense(512, activation = \"relu\")(top_model)\n",
        "  top_model = Dense(num_classes, activation=\"softmax\")(top_model)\n",
        "  return top_model\n",
        "\n",
        "num_classes = 7\n",
        "FC_Head = layer_adder(modelX, num_classes)\n",
        "from keras.layers import Input \n",
        "modelY = Model(inputs = modelX.input, outputs = FC_Head)\n",
        "print(modelY.summary())"
      ],
      "execution_count": 27,
      "outputs": [
        {
          "output_type": "stream",
          "name": "stdout",
          "text": [
            "Model: \"vgg16\"\n",
            "_________________________________________________________________\n",
            " Layer (type)                Output Shape              Param #   \n",
            "=================================================================\n",
            " input_2 (InputLayer)        [(None, 48, 48, 3)]       0         \n",
            "                                                                 \n",
            " block1_conv1 (Conv2D)       (None, 48, 48, 64)        1792      \n",
            "                                                                 \n",
            " block1_conv2 (Conv2D)       (None, 48, 48, 64)        36928     \n",
            "                                                                 \n",
            " block1_pool (MaxPooling2D)  (None, 24, 24, 64)        0         \n",
            "                                                                 \n",
            " block2_conv1 (Conv2D)       (None, 24, 24, 128)       73856     \n",
            "                                                                 \n",
            " block2_conv2 (Conv2D)       (None, 24, 24, 128)       147584    \n",
            "                                                                 \n",
            " block2_pool (MaxPooling2D)  (None, 12, 12, 128)       0         \n",
            "                                                                 \n",
            " block3_conv1 (Conv2D)       (None, 12, 12, 256)       295168    \n",
            "                                                                 \n",
            " block3_conv2 (Conv2D)       (None, 12, 12, 256)       590080    \n",
            "                                                                 \n",
            " block3_conv3 (Conv2D)       (None, 12, 12, 256)       590080    \n",
            "                                                                 \n",
            " block3_pool (MaxPooling2D)  (None, 6, 6, 256)         0         \n",
            "                                                                 \n",
            " block4_conv1 (Conv2D)       (None, 6, 6, 512)         1180160   \n",
            "                                                                 \n",
            " block4_conv2 (Conv2D)       (None, 6, 6, 512)         2359808   \n",
            "                                                                 \n",
            " block4_conv3 (Conv2D)       (None, 6, 6, 512)         2359808   \n",
            "                                                                 \n",
            " block4_pool (MaxPooling2D)  (None, 3, 3, 512)         0         \n",
            "                                                                 \n",
            " block5_conv1 (Conv2D)       (None, 3, 3, 512)         2359808   \n",
            "                                                                 \n",
            " block5_conv2 (Conv2D)       (None, 3, 3, 512)         2359808   \n",
            "                                                                 \n",
            " block5_conv3 (Conv2D)       (None, 3, 3, 512)         2359808   \n",
            "                                                                 \n",
            " block5_pool (MaxPooling2D)  (None, 1, 1, 512)         0         \n",
            "                                                                 \n",
            "=================================================================\n",
            "Total params: 14,714,688\n",
            "Trainable params: 0\n",
            "Non-trainable params: 14,714,688\n",
            "_________________________________________________________________\n",
            "Model: \"model_1\"\n",
            "_________________________________________________________________\n",
            " Layer (type)                Output Shape              Param #   \n",
            "=================================================================\n",
            " input_2 (InputLayer)        [(None, 48, 48, 3)]       0         \n",
            "                                                                 \n",
            " block1_conv1 (Conv2D)       (None, 48, 48, 64)        1792      \n",
            "                                                                 \n",
            " block1_conv2 (Conv2D)       (None, 48, 48, 64)        36928     \n",
            "                                                                 \n",
            " block1_pool (MaxPooling2D)  (None, 24, 24, 64)        0         \n",
            "                                                                 \n",
            " block2_conv1 (Conv2D)       (None, 24, 24, 128)       73856     \n",
            "                                                                 \n",
            " block2_conv2 (Conv2D)       (None, 24, 24, 128)       147584    \n",
            "                                                                 \n",
            " block2_pool (MaxPooling2D)  (None, 12, 12, 128)       0         \n",
            "                                                                 \n",
            " block3_conv1 (Conv2D)       (None, 12, 12, 256)       295168    \n",
            "                                                                 \n",
            " block3_conv2 (Conv2D)       (None, 12, 12, 256)       590080    \n",
            "                                                                 \n",
            " block3_conv3 (Conv2D)       (None, 12, 12, 256)       590080    \n",
            "                                                                 \n",
            " block3_pool (MaxPooling2D)  (None, 6, 6, 256)         0         \n",
            "                                                                 \n",
            " block4_conv1 (Conv2D)       (None, 6, 6, 512)         1180160   \n",
            "                                                                 \n",
            " block4_conv2 (Conv2D)       (None, 6, 6, 512)         2359808   \n",
            "                                                                 \n",
            " block4_conv3 (Conv2D)       (None, 6, 6, 512)         2359808   \n",
            "                                                                 \n",
            " block4_pool (MaxPooling2D)  (None, 3, 3, 512)         0         \n",
            "                                                                 \n",
            " block5_conv1 (Conv2D)       (None, 3, 3, 512)         2359808   \n",
            "                                                                 \n",
            " block5_conv2 (Conv2D)       (None, 3, 3, 512)         2359808   \n",
            "                                                                 \n",
            " block5_conv3 (Conv2D)       (None, 3, 3, 512)         2359808   \n",
            "                                                                 \n",
            " block5_pool (MaxPooling2D)  (None, 1, 1, 512)         0         \n",
            "                                                                 \n",
            " global_average_pooling2d_1   (None, 512)              0         \n",
            " (GlobalAveragePooling2D)                                        \n",
            "                                                                 \n",
            " dense_9 (Dense)             (None, 1024)              525312    \n",
            "                                                                 \n",
            " dense_10 (Dense)            (None, 512)               524800    \n",
            "                                                                 \n",
            " dense_11 (Dense)            (None, 7)                 3591      \n",
            "                                                                 \n",
            "=================================================================\n",
            "Total params: 15,768,391\n",
            "Trainable params: 1,053,703\n",
            "Non-trainable params: 14,714,688\n",
            "_________________________________________________________________\n",
            "None\n",
            "time: 396 ms (started: 2021-11-15 00:41:29 +00:00)\n"
          ]
        }
      ]
    },
    {
      "cell_type": "code",
      "metadata": {
        "colab": {
          "base_uri": "https://localhost:8080/"
        },
        "id": "IwrTCx3P03rW",
        "outputId": "570c204e-5b1c-4c9a-86e7-bae7277331c6"
      },
      "source": [
        "checkpoint_ft1 = ModelCheckpoint(\"best_model_ft1.hdf5\", monitor = 'val_loss', verbose = 1,\n",
        "    save_best_only = True, mode =' min', period = 1)"
      ],
      "execution_count": 28,
      "outputs": [
        {
          "output_type": "stream",
          "name": "stdout",
          "text": [
            "WARNING:tensorflow:`period` argument is deprecated. Please use `save_freq` to specify the frequency in number of batches seen.\n",
            "WARNING:tensorflow:ModelCheckpoint mode  min is unknown, fallback to auto mode.\n",
            "time: 9.94 ms (started: 2021-11-15 00:41:32 +00:00)\n"
          ]
        }
      ]
    },
    {
      "cell_type": "code",
      "metadata": {
        "colab": {
          "base_uri": "https://localhost:8080/"
        },
        "id": "ZuXEGWM5lKyF",
        "outputId": "d52809bc-b1ff-46a6-a44c-e60a7f0b5400"
      },
      "source": [
        "modelY.compile(loss = \"categorical_crossentropy\", metrics= \"accuracy\", optimizer=Adam(learning_rate= 0.001),)\n",
        "train_images_cnn = X_train.reshape(28709,48,48)\n",
        "valid_images_cnn = X_valid.reshape(3589,48,48)\n",
        "test_images_cnn = X_test.reshape(3589, 48, 48)\n",
        "\n",
        "#print(train_images_cnn.shape)  # (64, 224, 224)\n",
        "rgb_batch_train = np.repeat(train_images_cnn[..., np.newaxis], 3, -1)\n",
        "#print(rgb_batch_train.shape)  # (64, 224, 224, 3)\n",
        "\n",
        "#print(valid_images_cnn.shape)  # (64, 224, 224)\n",
        "rgb_batch_valid = np.repeat(valid_images_cnn[..., np.newaxis], 3, -1)\n",
        "#print(rgb_batch_valid.shape)  # (64, 224, 224, 3)\n",
        "\n",
        "#print(test_images_cnn.shape)  # (64, 224, 224)\n",
        "rgb_batch_test = np.repeat(test_images_cnn[..., np.newaxis], 3, -1)\n",
        "#print(rgb_batch_test.shape)  # (64, 224, 224, 3)\n",
        "\n",
        "finetune1 = modelY.fit(rgb_batch_train, X_train_label, validation_data = (rgb_batch_valid, X_valid_label), callbacks = [checkpoint_ft1], epochs=10,)\n"
      ],
      "execution_count": 29,
      "outputs": [
        {
          "output_type": "stream",
          "name": "stdout",
          "text": [
            "Epoch 1/10\n",
            "897/898 [============================>.] - ETA: 0s - loss: 1.6155 - accuracy: 0.3665\n",
            "Epoch 00001: val_loss improved from inf to 1.57098, saving model to best_model_ft1.hdf5\n",
            "898/898 [==============================] - 30s 32ms/step - loss: 1.6155 - accuracy: 0.3666 - val_loss: 1.5710 - val_accuracy: 0.3962\n",
            "Epoch 2/10\n",
            "897/898 [============================>.] - ETA: 0s - loss: 1.5231 - accuracy: 0.4100\n",
            "Epoch 00002: val_loss improved from 1.57098 to 1.56487, saving model to best_model_ft1.hdf5\n",
            "898/898 [==============================] - 28s 31ms/step - loss: 1.5231 - accuracy: 0.4101 - val_loss: 1.5649 - val_accuracy: 0.3951\n",
            "Epoch 3/10\n",
            "897/898 [============================>.] - ETA: 0s - loss: 1.4639 - accuracy: 0.4347\n",
            "Epoch 00003: val_loss improved from 1.56487 to 1.49464, saving model to best_model_ft1.hdf5\n",
            "898/898 [==============================] - 28s 31ms/step - loss: 1.4640 - accuracy: 0.4347 - val_loss: 1.4946 - val_accuracy: 0.4369\n",
            "Epoch 4/10\n",
            "897/898 [============================>.] - ETA: 0s - loss: 1.4103 - accuracy: 0.4576\n",
            "Epoch 00004: val_loss improved from 1.49464 to 1.48956, saving model to best_model_ft1.hdf5\n",
            "898/898 [==============================] - 28s 31ms/step - loss: 1.4103 - accuracy: 0.4576 - val_loss: 1.4896 - val_accuracy: 0.4363\n",
            "Epoch 5/10\n",
            "897/898 [============================>.] - ETA: 0s - loss: 1.3475 - accuracy: 0.4839\n",
            "Epoch 00005: val_loss improved from 1.48956 to 1.47653, saving model to best_model_ft1.hdf5\n",
            "898/898 [==============================] - 28s 31ms/step - loss: 1.3475 - accuracy: 0.4839 - val_loss: 1.4765 - val_accuracy: 0.4419\n",
            "Epoch 6/10\n",
            "897/898 [============================>.] - ETA: 0s - loss: 1.2838 - accuracy: 0.5099\n",
            "Epoch 00006: val_loss did not improve from 1.47653\n",
            "898/898 [==============================] - 28s 31ms/step - loss: 1.2838 - accuracy: 0.5098 - val_loss: 1.4936 - val_accuracy: 0.4478\n",
            "Epoch 7/10\n",
            "897/898 [============================>.] - ETA: 0s - loss: 1.2106 - accuracy: 0.5398\n",
            "Epoch 00007: val_loss did not improve from 1.47653\n",
            "898/898 [==============================] - 28s 31ms/step - loss: 1.2107 - accuracy: 0.5397 - val_loss: 1.5103 - val_accuracy: 0.4609\n",
            "Epoch 8/10\n",
            "897/898 [============================>.] - ETA: 0s - loss: 1.1365 - accuracy: 0.5650\n",
            "Epoch 00008: val_loss did not improve from 1.47653\n",
            "898/898 [==============================] - 28s 31ms/step - loss: 1.1364 - accuracy: 0.5650 - val_loss: 1.5457 - val_accuracy: 0.4553\n",
            "Epoch 9/10\n",
            "897/898 [============================>.] - ETA: 0s - loss: 1.0510 - accuracy: 0.6022\n",
            "Epoch 00009: val_loss did not improve from 1.47653\n",
            "898/898 [==============================] - 30s 34ms/step - loss: 1.0511 - accuracy: 0.6022 - val_loss: 1.5681 - val_accuracy: 0.4625\n",
            "Epoch 10/10\n",
            "897/898 [============================>.] - ETA: 0s - loss: 0.9698 - accuracy: 0.6394\n",
            "Epoch 00010: val_loss did not improve from 1.47653\n",
            "898/898 [==============================] - 28s 31ms/step - loss: 0.9698 - accuracy: 0.6393 - val_loss: 1.6217 - val_accuracy: 0.4609\n",
            "time: 5min 25s (started: 2021-11-15 00:41:34 +00:00)\n"
          ]
        }
      ]
    },
    {
      "cell_type": "code",
      "metadata": {
        "colab": {
          "base_uri": "https://localhost:8080/",
          "height": 313
        },
        "id": "B8YMRBqoAX15",
        "outputId": "e866a0a3-f8f6-48a6-95f5-7f10aa3d2f08"
      },
      "source": [
        "train_loss_ft1 = finetune1.history['loss']\n",
        "valid_loss_ft1 = finetune1.history['val_loss']\n",
        "plt.plot(train_loss_ft1, 'r', label='Training loss')\n",
        "plt.plot(valid_loss_ft1, 'b', label='Validation loss')\n",
        "plt.title('FineTune Model 1') \n",
        "plt.xlabel('Epochs') \n",
        "plt.ylabel('Loss')\n",
        "plt.legend()\n",
        "plt.show()"
      ],
      "execution_count": 26,
      "outputs": [
        {
          "output_type": "display_data",
          "data": {
            "image/png": "[encoded data removed]",
            "text/plain": [
              "<Figure size 432x288 with 1 Axes>"
            ]
          },
          "metadata": {
            "needs_background": "light"
          }
        },
        {
          "output_type": "stream",
          "name": "stdout",
          "text": [
            "time: 199 ms (started: 2021-11-15 00:40:49 +00:00)\n"
          ]
        }
      ]
    },
    {
      "cell_type": "code",
      "metadata": {
        "colab": {
          "base_uri": "https://localhost:8080/"
        },
        "id": "sdNwvWhL2hOl",
        "outputId": "ffbf291a-505f-4a77-80f8-f0e03053a383"
      },
      "source": [
        "best_model_ft1 = keras.models.load_model(\"best_model_ft1.hdf5\")\n",
        "score = best_model_ft1.evaluate(rgb_batch_train , X_train_label, verbose=0)\n",
        "score1 = best_model_ft1.evaluate(rgb_batch_valid , X_valid_label, verbose=0)\n",
        "print(\"Accuracy on Training Set\", score[1], \"\\nAccuracy on Validation Set\", score1[1])"
      ],
      "execution_count": 119,
      "outputs": [
        {
          "output_type": "stream",
          "name": "stdout",
          "text": [
            "Accuracy on Training Set 0.5374273061752319 \n",
            "Accuracy on Validation Set 0.4563945531845093\n",
            "time: 28.5 s (started: 2021-11-15 00:03:01 +00:00)\n"
          ]
        }
      ]
    },
    {
      "cell_type": "markdown",
      "metadata": {
        "id": "NP70GK16y6kq"
      },
      "source": [
        "Fine Tuning: Model 1:  Fine Tuning on the VGG16 model with three Dense layers at the top and without regularization. The accuracy on the validation set is 45% "
      ]
    },
    {
      "cell_type": "code",
      "metadata": {
        "colab": {
          "base_uri": "https://localhost:8080/"
        },
        "id": "m52vNpcF1N3Z",
        "outputId": "f3edbd2c-3712-4438-b94b-7d335f9f6281"
      },
      "source": [
        "checkpoint_ft2 = ModelCheckpoint(\"best_model_ft2.hdf5\", monitor = 'val_loss', verbose = 1,\n",
        "    save_best_only = True, mode =' min', period = 1)"
      ],
      "execution_count": 120,
      "outputs": [
        {
          "output_type": "stream",
          "name": "stdout",
          "text": [
            "WARNING:tensorflow:`period` argument is deprecated. Please use `save_freq` to specify the frequency in number of batches seen.\n",
            "WARNING:tensorflow:ModelCheckpoint mode  min is unknown, fallback to auto mode.\n",
            "time: 7.91 ms (started: 2021-11-15 00:03:51 +00:00)\n"
          ]
        }
      ]
    },
    {
      "cell_type": "code",
      "metadata": {
        "colab": {
          "base_uri": "https://localhost:8080/"
        },
        "id": "YAVmDbu9eLqt",
        "outputId": "c88b15a3-f3a0-478a-9c58-40b1e69da934"
      },
      "source": [
        "#Model 2: add regularization, less layer\n",
        "\n",
        "def layer_adder2(bottom_model, num_classes):\n",
        "  top_model = bottom_model.output\n",
        "  top_model = GlobalAveragePooling2D()(top_model)\n",
        "  top_model = Dense(512, kernel_regularizer=l2(0.01), activation = \"relu\")(top_model)\n",
        "  top_model = Dense(num_classes, activation=\"softmax\")(top_model)\n",
        "  return top_model\n",
        "\n",
        "num_classes = 7\n",
        "FC_Head2 = layer_adder(modelX, num_classes)\n",
        "modelZ = Model(inputs = modelX.input, outputs = FC_Head2)\n",
        "print(modelZ.summary())\n",
        "\n",
        "modelZ.compile(loss = \"categorical_crossentropy\", metrics= \"accuracy\", optimizer= \"adam\")\n",
        "finetune2 = modelZ.fit(rgb_batch_train, X_train_label, validation_data = (rgb_batch_valid, X_valid_label), callbacks = [checkpoint_ft2] ,epochs=10,batch_size=256,)\n"
      ],
      "execution_count": 121,
      "outputs": [
        {
          "output_type": "stream",
          "name": "stdout",
          "text": [
            "Model: \"model_1\"\n",
            "_________________________________________________________________\n",
            " Layer (type)                Output Shape              Param #   \n",
            "=================================================================\n",
            " input_1 (InputLayer)        [(None, 48, 48, 3)]       0         \n",
            "                                                                 \n",
            " block1_conv1 (Conv2D)       (None, 48, 48, 64)        1792      \n",
            "                                                                 \n",
            " block1_conv2 (Conv2D)       (None, 48, 48, 64)        36928     \n",
            "                                                                 \n",
            " block1_pool (MaxPooling2D)  (None, 24, 24, 64)        0         \n",
            "                                                                 \n",
            " block2_conv1 (Conv2D)       (None, 24, 24, 128)       73856     \n",
            "                                                                 \n",
            " block2_conv2 (Conv2D)       (None, 24, 24, 128)       147584    \n",
            "                                                                 \n",
            " block2_pool (MaxPooling2D)  (None, 12, 12, 128)       0         \n",
            "                                                                 \n",
            " block3_conv1 (Conv2D)       (None, 12, 12, 256)       295168    \n",
            "                                                                 \n",
            " block3_conv2 (Conv2D)       (None, 12, 12, 256)       590080    \n",
            "                                                                 \n",
            " block3_conv3 (Conv2D)       (None, 12, 12, 256)       590080    \n",
            "                                                                 \n",
            " block3_pool (MaxPooling2D)  (None, 6, 6, 256)         0         \n",
            "                                                                 \n",
            " block4_conv1 (Conv2D)       (None, 6, 6, 512)         1180160   \n",
            "                                                                 \n",
            " block4_conv2 (Conv2D)       (None, 6, 6, 512)         2359808   \n",
            "                                                                 \n",
            " block4_conv3 (Conv2D)       (None, 6, 6, 512)         2359808   \n",
            "                                                                 \n",
            " block4_pool (MaxPooling2D)  (None, 3, 3, 512)         0         \n",
            "                                                                 \n",
            " block5_conv1 (Conv2D)       (None, 3, 3, 512)         2359808   \n",
            "                                                                 \n",
            " block5_conv2 (Conv2D)       (None, 3, 3, 512)         2359808   \n",
            "                                                                 \n",
            " block5_conv3 (Conv2D)       (None, 3, 3, 512)         2359808   \n",
            "                                                                 \n",
            " block5_pool (MaxPooling2D)  (None, 1, 1, 512)         0         \n",
            "                                                                 \n",
            " global_average_pooling2d_1   (None, 512)              0         \n",
            " (GlobalAveragePooling2D)                                        \n",
            "                                                                 \n",
            " dense_5 (Dense)             (None, 1024)              525312    \n",
            "                                                                 \n",
            " dense_6 (Dense)             (None, 512)               524800    \n",
            "                                                                 \n",
            " dense_7 (Dense)             (None, 7)                 3591      \n",
            "                                                                 \n",
            "=================================================================\n",
            "Total params: 15,768,391\n",
            "Trainable params: 1,053,703\n",
            "Non-trainable params: 14,714,688\n",
            "_________________________________________________________________\n",
            "None\n",
            "Epoch 1/10\n",
            "112/113 [============================>.] - ETA: 0s - loss: 1.6397 - accuracy: 0.3493\n",
            "Epoch 00001: val_loss improved from inf to 1.55201, saving model to best_model_ft2.hdf5\n",
            "113/113 [==============================] - 18s 149ms/step - loss: 1.6398 - accuracy: 0.3492 - val_loss: 1.5520 - val_accuracy: 0.3976\n",
            "Epoch 2/10\n",
            "112/113 [============================>.] - ETA: 0s - loss: 1.5248 - accuracy: 0.4082\n",
            "Epoch 00002: val_loss improved from 1.55201 to 1.52604, saving model to best_model_ft2.hdf5\n",
            "113/113 [==============================] - 16s 138ms/step - loss: 1.5248 - accuracy: 0.4081 - val_loss: 1.5260 - val_accuracy: 0.4227\n",
            "Epoch 3/10\n",
            "112/113 [============================>.] - ETA: 0s - loss: 1.4629 - accuracy: 0.4411\n",
            "Epoch 00003: val_loss improved from 1.52604 to 1.50656, saving model to best_model_ft2.hdf5\n",
            "113/113 [==============================] - 16s 138ms/step - loss: 1.4629 - accuracy: 0.4411 - val_loss: 1.5066 - val_accuracy: 0.4263\n",
            "Epoch 4/10\n",
            "112/113 [============================>.] - ETA: 0s - loss: 1.4146 - accuracy: 0.4591\n",
            "Epoch 00004: val_loss improved from 1.50656 to 1.46228, saving model to best_model_ft2.hdf5\n",
            "113/113 [==============================] - 16s 138ms/step - loss: 1.4148 - accuracy: 0.4589 - val_loss: 1.4623 - val_accuracy: 0.4452\n",
            "Epoch 5/10\n",
            "112/113 [============================>.] - ETA: 0s - loss: 1.3530 - accuracy: 0.4869\n",
            "Epoch 00005: val_loss did not improve from 1.46228\n",
            "113/113 [==============================] - 15s 136ms/step - loss: 1.3530 - accuracy: 0.4869 - val_loss: 1.4761 - val_accuracy: 0.4464\n",
            "Epoch 6/10\n",
            "112/113 [============================>.] - ETA: 0s - loss: 1.3107 - accuracy: 0.5064\n",
            "Epoch 00006: val_loss did not improve from 1.46228\n",
            "113/113 [==============================] - 15s 135ms/step - loss: 1.3105 - accuracy: 0.5065 - val_loss: 1.4937 - val_accuracy: 0.4411\n",
            "Epoch 7/10\n",
            "112/113 [============================>.] - ETA: 0s - loss: 1.2425 - accuracy: 0.5324\n",
            "Epoch 00007: val_loss did not improve from 1.46228\n",
            "113/113 [==============================] - 15s 136ms/step - loss: 1.2423 - accuracy: 0.5325 - val_loss: 1.5267 - val_accuracy: 0.4444\n",
            "Epoch 8/10\n",
            "112/113 [============================>.] - ETA: 0s - loss: 1.1804 - accuracy: 0.5613\n",
            "Epoch 00008: val_loss did not improve from 1.46228\n",
            "113/113 [==============================] - 15s 136ms/step - loss: 1.1805 - accuracy: 0.5613 - val_loss: 1.5047 - val_accuracy: 0.4522\n",
            "Epoch 9/10\n",
            "112/113 [============================>.] - ETA: 0s - loss: 1.1088 - accuracy: 0.5908\n",
            "Epoch 00009: val_loss did not improve from 1.46228\n",
            "113/113 [==============================] - 15s 136ms/step - loss: 1.1089 - accuracy: 0.5908 - val_loss: 1.5202 - val_accuracy: 0.4492\n",
            "Epoch 10/10\n",
            "112/113 [============================>.] - ETA: 0s - loss: 1.0497 - accuracy: 0.6118\n",
            "Epoch 00010: val_loss did not improve from 1.46228\n",
            "113/113 [==============================] - 15s 136ms/step - loss: 1.0497 - accuracy: 0.6117 - val_loss: 1.5432 - val_accuracy: 0.4622\n",
            "time: 3min 23s (started: 2021-11-15 00:03:54 +00:00)\n"
          ]
        }
      ]
    },
    {
      "cell_type": "code",
      "metadata": {
        "colab": {
          "base_uri": "https://localhost:8080/",
          "height": 313
        },
        "id": "-2AA-Cgq1eOq",
        "outputId": "97394982-4db4-4df1-cf8e-5a8b72ec7204"
      },
      "source": [
        "train_loss_ft2 = finetune2.history['loss']\n",
        "valid_loss_ft2 = finetune2.history['val_loss']\n",
        "plt.plot(train_loss_ft2, 'r', label='Training loss')\n",
        "plt.plot(valid_loss_ft2, 'b', label='Validation loss')\n",
        "plt.title('FineTune Model 1') \n",
        "plt.xlabel('Epochs') \n",
        "plt.ylabel('Loss')\n",
        "plt.legend()\n",
        "plt.show()"
      ],
      "execution_count": 122,
      "outputs": [
        {
          "output_type": "display_data",
          "data": {
            "image/png": "[encoded data removed]",
            "text/plain": [
              "<Figure size 432x288 with 1 Axes>"
            ]
          },
          "metadata": {
            "needs_background": "light"
          }
        },
        {
          "output_type": "stream",
          "name": "stdout",
          "text": [
            "time: 191 ms (started: 2021-11-15 00:07:23 +00:00)\n"
          ]
        }
      ]
    },
    {
      "cell_type": "code",
      "metadata": {
        "colab": {
          "base_uri": "https://localhost:8080/"
        },
        "id": "Ws_mtmU82tQk",
        "outputId": "d7f45e93-4c98-4091-c35a-6adb61797290"
      },
      "source": [
        "best_model_ft2 = keras.models.load_model(\"best_model_ft2.hdf5\")\n",
        "score = best_model_ft2.evaluate(rgb_batch_train, X_train_label, verbose=0)\n",
        "score1 = best_model_ft2.evaluate(rgb_batch_valid, X_valid_label, verbose=0)\n",
        "print(\"Accuracy on Training Set\", score[1], \"\\nAccuracy on Validation Set\", score1[1])"
      ],
      "execution_count": 123,
      "outputs": [
        {
          "output_type": "stream",
          "name": "stdout",
          "text": [
            "Accuracy on Training Set 0.5026646852493286 \n",
            "Accuracy on Validation Set 0.44524937868118286\n",
            "time: 27.6 s (started: 2021-11-15 00:07:29 +00:00)\n"
          ]
        }
      ]
    },
    {
      "cell_type": "markdown",
      "metadata": {
        "id": "svJc1oFdzemY"
      },
      "source": [
        "Fine Tuning: Model 2:  Fine Tuning on the VGG16 model with 2 Dense layers at the top and with regularization. The accuracy on the validation set is 44% "
      ]
    },
    {
      "cell_type": "code",
      "metadata": {
        "colab": {
          "base_uri": "https://localhost:8080/"
        },
        "id": "8Y69DI1ODn6t",
        "outputId": "8ca174b6-d028-4e49-b5fc-64098e80c331"
      },
      "source": [
        "performance = best_model_ft1.evaluate(rgb_batch_test, X_test_label, verbose=0)\n",
        "\n",
        "print(\"Accuracy on Test samples: {0}\".format(performance[1]))"
      ],
      "execution_count": 124,
      "outputs": [
        {
          "output_type": "stream",
          "name": "stdout",
          "text": [
            "Accuracy on Test samples: 0.4435775876045227\n",
            "time: 5.3 s (started: 2021-11-15 00:08:27 +00:00)\n"
          ]
        }
      ]
    },
    {
      "cell_type": "markdown",
      "metadata": {
        "id": "4a7so4Obzr2X"
      },
      "source": [
        "f. Among the different hyperparameter combinations for Fine Tuning, model1 has achieved best performance. The test accuracy with model2 is 44%."
      ]
    },
    {
      "cell_type": "code",
      "metadata": {
        "colab": {
          "base_uri": "https://localhost:8080/"
        },
        "id": "vknfA0grN4VO",
        "outputId": "f0d3a381-9864-4648-839a-1fb9e4c59faf"
      },
      "source": [
        "checkpoint_daug = ModelCheckpoint(\"best_model_daug.hdf5\", monitor = 'val_loss', verbose = 1,\n",
        "    save_best_only = True, mode =' min', period = 1)"
      ],
      "execution_count": 52,
      "outputs": [
        {
          "output_type": "stream",
          "name": "stdout",
          "text": [
            "WARNING:tensorflow:`period` argument is deprecated. Please use `save_freq` to specify the frequency in number of batches seen.\n",
            "WARNING:tensorflow:ModelCheckpoint mode  min is unknown, fallback to auto mode.\n",
            "time: 11.2 ms (started: 2021-11-15 01:32:42 +00:00)\n"
          ]
        }
      ]
    },
    {
      "cell_type": "code",
      "metadata": {
        "id": "nuj4xojWvUmK",
        "colab": {
          "base_uri": "https://localhost:8080/"
        },
        "outputId": "1dc44fab-bb12-410e-dff2-786bbb111a4a"
      },
      "source": [
        "#Data Augmentation\n",
        "from keras.preprocessing.image import ImageDataGenerator\n",
        "datagen = ImageDataGenerator(featurewise_center=True, featurewise_std_normalization=True, rotation_range=20, \n",
        "                             width_shift_range=0.2,height_shift_range=0.2,\n",
        "                             horizontal_flip=True)\n",
        "\n",
        "cnn_model2.fit(datagen.flow(train_images_cnn, X_train_label), validation_data = (valid_images_cnn, X_valid_label),callbacks=[checkpoint_daug], epochs=10)"
      ],
      "execution_count": 53,
      "outputs": [
        {
          "output_type": "stream",
          "name": "stderr",
          "text": [
            "/usr/local/lib/python3.7/dist-packages/keras_preprocessing/image/image_data_generator.py:720: UserWarning: This ImageDataGenerator specifies `featurewise_center`, but it hasn't been fit on any training data. Fit it first by calling `.fit(numpy_data)`.\n",
            "  warnings.warn('This ImageDataGenerator specifies '\n",
            "/usr/local/lib/python3.7/dist-packages/keras_preprocessing/image/image_data_generator.py:728: UserWarning: This ImageDataGenerator specifies `featurewise_std_normalization`, but it hasn't been fit on any training data. Fit it first by calling `.fit(numpy_data)`.\n",
            "  warnings.warn('This ImageDataGenerator specifies '\n"
          ]
        },
        {
          "output_type": "stream",
          "name": "stdout",
          "text": [
            "Epoch 1/10\n",
            "898/898 [==============================] - ETA: 0s - loss: 1.7679 - accuracy: 0.2701\n",
            "Epoch 00001: val_loss improved from inf to 1.64913, saving model to best_model_daug.hdf5\n",
            "898/898 [==============================] - 33s 35ms/step - loss: 1.7679 - accuracy: 0.2701 - val_loss: 1.6491 - val_accuracy: 0.3427\n",
            "Epoch 2/10\n",
            "897/898 [============================>.] - ETA: 0s - loss: 1.6339 - accuracy: 0.3497\n",
            "Epoch 00002: val_loss improved from 1.64913 to 1.45561, saving model to best_model_daug.hdf5\n",
            "898/898 [==============================] - 31s 35ms/step - loss: 1.6341 - accuracy: 0.3495 - val_loss: 1.4556 - val_accuracy: 0.4480\n",
            "Epoch 3/10\n",
            "898/898 [==============================] - ETA: 0s - loss: 1.5184 - accuracy: 0.4096\n",
            "Epoch 00003: val_loss improved from 1.45561 to 1.35654, saving model to best_model_daug.hdf5\n",
            "898/898 [==============================] - 31s 35ms/step - loss: 1.5184 - accuracy: 0.4096 - val_loss: 1.3565 - val_accuracy: 0.4614\n",
            "Epoch 4/10\n",
            "898/898 [==============================] - ETA: 0s - loss: 1.4532 - accuracy: 0.4407\n",
            "Epoch 00004: val_loss did not improve from 1.35654\n",
            "898/898 [==============================] - 31s 35ms/step - loss: 1.4532 - accuracy: 0.4407 - val_loss: 1.3804 - val_accuracy: 0.4784\n",
            "Epoch 5/10\n",
            "897/898 [============================>.] - ETA: 0s - loss: 1.4239 - accuracy: 0.4533\n",
            "Epoch 00005: val_loss improved from 1.35654 to 1.26773, saving model to best_model_daug.hdf5\n",
            "898/898 [==============================] - 31s 35ms/step - loss: 1.4237 - accuracy: 0.4533 - val_loss: 1.2677 - val_accuracy: 0.5074\n",
            "Epoch 6/10\n",
            "897/898 [============================>.] - ETA: 0s - loss: 1.4052 - accuracy: 0.4644\n",
            "Epoch 00006: val_loss did not improve from 1.26773\n",
            "898/898 [==============================] - 31s 35ms/step - loss: 1.4048 - accuracy: 0.4646 - val_loss: 1.3108 - val_accuracy: 0.5077\n",
            "Epoch 7/10\n",
            "897/898 [============================>.] - ETA: 0s - loss: 1.3917 - accuracy: 0.4738\n",
            "Epoch 00007: val_loss did not improve from 1.26773\n",
            "898/898 [==============================] - 31s 35ms/step - loss: 1.3916 - accuracy: 0.4739 - val_loss: 1.2839 - val_accuracy: 0.5247\n",
            "Epoch 8/10\n",
            "898/898 [==============================] - ETA: 0s - loss: 1.3824 - accuracy: 0.4766\n",
            "Epoch 00008: val_loss did not improve from 1.26773\n",
            "898/898 [==============================] - 31s 35ms/step - loss: 1.3824 - accuracy: 0.4766 - val_loss: 1.3310 - val_accuracy: 0.4943\n",
            "Epoch 9/10\n",
            "897/898 [============================>.] - ETA: 0s - loss: 1.3706 - accuracy: 0.4798\n",
            "Epoch 00009: val_loss improved from 1.26773 to 1.22369, saving model to best_model_daug.hdf5\n",
            "898/898 [==============================] - 31s 35ms/step - loss: 1.3705 - accuracy: 0.4798 - val_loss: 1.2237 - val_accuracy: 0.5322\n",
            "Epoch 10/10\n",
            "897/898 [============================>.] - ETA: 0s - loss: 1.3632 - accuracy: 0.4834\n",
            "Epoch 00010: val_loss did not improve from 1.22369\n",
            "898/898 [==============================] - 31s 35ms/step - loss: 1.3635 - accuracy: 0.4833 - val_loss: 1.3112 - val_accuracy: 0.4982\n"
          ]
        },
        {
          "output_type": "execute_result",
          "data": {
            "text/plain": [
              "<keras.callbacks.History at 0x7fa71a035390>"
            ]
          },
          "metadata": {},
          "execution_count": 53
        },
        {
          "output_type": "stream",
          "name": "stdout",
          "text": [
            "time: 5min 13s (started: 2021-11-15 01:32:57 +00:00)\n"
          ]
        }
      ]
    },
    {
      "cell_type": "code",
      "metadata": {
        "colab": {
          "base_uri": "https://localhost:8080/"
        },
        "id": "CF67Ah4a_6y7",
        "outputId": "ec3a6221-e994-4c36-9991-7b0bd6d57f81"
      },
      "source": [
        "performance = best_model_daug.evaluate(test_images_cnn, X_test_label)"
      ],
      "execution_count": 55,
      "outputs": [
        {
          "output_type": "stream",
          "name": "stdout",
          "text": [
            "113/113 [==============================] - 2s 13ms/step - loss: 1.2090 - accuracy: 0.5391\n",
            "time: 2.8 s (started: 2021-11-15 01:38:43 +00:00)\n"
          ]
        }
      ]
    },
    {
      "cell_type": "markdown",
      "metadata": {
        "id": "F2fTRk-gAbD4"
      },
      "source": [
        "g. Using Data Augmentation, the accuracy of the CNN model is 54% on the testing dataset."
      ]
    },
    {
      "cell_type": "code",
      "metadata": {
        "id": "AjV_fDDzmb38"
      },
      "source": [
        "#pip install keras-tuner"
      ],
      "execution_count": null,
      "outputs": []
    }
  ]
}